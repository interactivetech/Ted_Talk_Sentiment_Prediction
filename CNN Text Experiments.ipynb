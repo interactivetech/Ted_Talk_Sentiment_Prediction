{
 "cells": [
  {
   "cell_type": "code",
   "execution_count": 1,
   "metadata": {},
   "outputs": [],
   "source": [
    "import numpy as np\n",
    "from sklearn.linear_model import LogisticRegression\n",
    "import textacy\n",
    "import pandas as pd\n",
    "import matplotlib.pyplot as plt\n",
    "from sklearn.metrics import confusion_matrix, f1_score\n",
    "\n",
    "# Splitting\n",
    "from sklearn.model_selection import StratifiedKFold\n",
    "from sklearn.model_selection import KFold\n",
    "\n",
    "# Preprocessing\n",
    "from sklearn.preprocessing import OneHotEncoder\n",
    "\n",
    "# Metrics\n",
    "from sklearn.metrics import accuracy_score\n",
    "\n",
    "# Models\n",
    "from sklearn.svm import SVC\n",
    "from sklearn.linear_model import LogisticRegression\n",
    "from tqdm import tqdm\n",
    "%matplotlib inline"
   ]
  },
  {
   "cell_type": "code",
   "execution_count": 2,
   "metadata": {},
   "outputs": [],
   "source": [
    "## Import Data"
   ]
  },
  {
   "cell_type": "code",
   "execution_count": 3,
   "metadata": {},
   "outputs": [],
   "source": [
    "import ast\n",
    "# ast.literal_eval\n",
    "# df = get_undersampled(pd.read_csv(\"data/train_raw.csv\"))\n",
    "# df2 = get_undersampled(pd.read_csv(\"data/test_raw.csv\"))\n",
    "\n",
    "df = pd.read_csv(\"data/train_raw.csv\")\n",
    "df2 = pd.read_csv(\"data/test_raw.csv\")"
   ]
  },
  {
   "cell_type": "code",
   "execution_count": 4,
   "metadata": {},
   "outputs": [],
   "source": [
    "# len(test_tags)"
   ]
  },
  {
   "cell_type": "code",
   "execution_count": 5,
   "metadata": {},
   "outputs": [],
   "source": [
    "train_tags =df[\"transcript\"]\n",
    "test_tags = df2[\"transcript\"]"
   ]
  },
  {
   "cell_type": "code",
   "execution_count": 6,
   "metadata": {},
   "outputs": [],
   "source": [
    "# train_labels = df\n",
    "# # labels.head()\n",
    "# test_labels = df2"
   ]
  },
  {
   "cell_type": "code",
   "execution_count": 7,
   "metadata": {},
   "outputs": [],
   "source": [
    "# train_tags.tolist()[0].split(\" \")"
   ]
  },
  {
   "cell_type": "code",
   "execution_count": 8,
   "metadata": {},
   "outputs": [
    {
     "name": "stderr",
     "output_type": "stream",
     "text": [
      "100%|██████████| 1850/1850 [09:15<00:00,  4.41it/s]\n",
      "100%|██████████| 617/617 [03:05<00:00,  2.73it/s]\n"
     ]
    }
   ],
   "source": [
    "docs = []\n",
    "train_corp = textacy.Corpus(lang='en')\n",
    "for l in tqdm(train_tags.tolist()):\n",
    "    train_corp.add_text(l)\n",
    "test_corp = textacy.Corpus(lang='en')\n",
    "for l in tqdm(test_tags.tolist()):\n",
    "    test_corp.add_text(l)"
   ]
  },
  {
   "cell_type": "code",
   "execution_count": 9,
   "metadata": {},
   "outputs": [],
   "source": [
    "## Entire corpus\n",
    "TR_LEN = len(train_corp)\n",
    "TE_LEN =len(test_corp)      "
   ]
  },
  {
   "cell_type": "code",
   "execution_count": 10,
   "metadata": {},
   "outputs": [],
   "source": [
    "# entire_corpus = textacy.Corpus(lang='en')\n",
    "# for l in train_tags.tolist()+test_tags.tolist():\n",
    "#     entire_corpus.add_text(' '.join(l))"
   ]
  },
  {
   "cell_type": "code",
   "execution_count": 11,
   "metadata": {},
   "outputs": [],
   "source": [
    "# len(entire_corpus)"
   ]
  },
  {
   "cell_type": "code",
   "execution_count": 12,
   "metadata": {},
   "outputs": [],
   "source": [
    "# list(test_corp[0].tokens)"
   ]
  },
  {
   "cell_type": "markdown",
   "metadata": {},
   "source": [
    "## Preprocess Data - Without combining"
   ]
  },
  {
   "cell_type": "code",
   "execution_count": 13,
   "metadata": {},
   "outputs": [],
   "source": [
    "def tf_idf_corpus(train_c,test_c):\n",
    "    vectorizer = textacy.Vectorizer(\n",
    "        tf_type='linear', apply_idf=True, idf_type='smooth', norm='l2',\n",
    "        min_df=2, max_df=0.95)\n",
    "    train = vectorizer.fit_transform(\n",
    "        (doc.to_terms_list(ngrams=1, named_entities=True, as_strings=True)\n",
    "         for doc in train_c))\n",
    "    test = vectorizer.transform(\n",
    "        (doc.to_terms_list(ngrams=1, named_entities=True, as_strings=True)\n",
    "         for doc in test_c))\n",
    "    return train,test\n",
    "X_train,X_test = tf_idf_corpus(train_corp,test_corp)"
   ]
  },
  {
   "cell_type": "markdown",
   "metadata": {},
   "source": [
    "## vectorize data with combining"
   ]
  },
  {
   "cell_type": "code",
   "execution_count": 14,
   "metadata": {},
   "outputs": [],
   "source": [
    "# def tf_idf_corpus(corpus):\n",
    "#     vectorizer = textacy.Vectorizer(\n",
    "#         tf_type='linear', apply_idf=True, idf_type='smooth', norm='l2',\n",
    "#         min_df=2, max_df=0.95)\n",
    "#     doc_term_matrix = vectorizer.fit_transform(\n",
    "#         (doc.to_terms_list(ngrams=1, named_entities=True, as_strings=True)\n",
    "#          for doc in corpus))\n",
    "#     return doc_term_matrix\n",
    "# X = tf_idf_corpus(entire_corpus)\n",
    "# X_train=X[:TR_LEN]\n",
    "# X_test = X[TR_LEN:]"
   ]
  },
  {
   "cell_type": "code",
   "execution_count": 15,
   "metadata": {},
   "outputs": [],
   "source": [
    "# X_test.shape"
   ]
  },
  {
   "cell_type": "code",
   "execution_count": 16,
   "metadata": {},
   "outputs": [],
   "source": [
    "# def get_logreg_results(X_train, X_test, y_train, y_test):\n",
    "#     print(\"Training Logistic Regression\")\n",
    "#     clf = LogisticRegression()\n",
    "#     skf = StratifiedKFold(n_splits=5)\n",
    "    \n",
    "#     scores = []\n",
    "#     f = 0\n",
    "#     for train_index, test_index in skf.split(X_train, y_train):\n",
    "#         X_tr, X_t = X_train[train_index], X_train[test_index]\n",
    "#         y_tr, y_t = y_train[train_index], y_train[test_index]\n",
    "        \n",
    "#         clf.fit(X_tr, y_tr)\n",
    "#         scores.append(clf.score(X_t, y_t))\n",
    "#         print(\"Fold {}: {}\".format(f+1, scores[-1]))\n",
    "#         f+=1\n",
    "#     print(\"Logistic cross-validation accuracy: {}\".format(np.mean(scores)))\n",
    "    \n",
    "#     clf.fit(X_train, y_train)\n",
    "#     print(\"Logistic accuracy on the test set: {}\".format(accuracy_score(y_test, clf.predict(X_test))))\n",
    "    \n",
    "# def get_svm_results(X_train, X_test, y_train, y_test):\n",
    "#     print(\"Training SVM\")\n",
    "\n",
    "#     clf = SVC(kernel='linear')\n",
    "#     skf = StratifiedKFold(n_splits=5)\n",
    "    \n",
    "#     scores = []\n",
    "#     f = 0\n",
    "#     for train_index, test_index in skf.split(X_train, y_train):\n",
    "#         X_tr, X_t = X_train[train_index], X_train[test_index]\n",
    "#         y_tr, y_t = y_train[train_index], y_train[test_index]\n",
    "        \n",
    "#         clf.fit(X_tr, y_tr)\n",
    "#         scores.append(clf.score(X_t, y_t))\n",
    "#         print(\"Fold {}: {}\".format(f+1, scores[-1]))\n",
    "#         f+=1\n",
    "#     print(\"SVM cross-validation accuracy: {}\".format(np.mean(scores)))\n",
    "    \n",
    "#     clf.fit(X_train, y_train)\n",
    "#     print(\"SVM accuracy on the test set: {}\".format(accuracy_score(y_test, clf.predict(X_test))))\n"
   ]
  },
  {
   "cell_type": "code",
   "execution_count": 17,
   "metadata": {},
   "outputs": [],
   "source": [
    "y_train = df[\"label\"].as_matrix()\n",
    "y_test = df2[\"label\"].as_matrix()"
   ]
  },
  {
   "cell_type": "code",
   "execution_count": 18,
   "metadata": {},
   "outputs": [],
   "source": [
    "# type(X_train)"
   ]
  },
  {
   "cell_type": "markdown",
   "metadata": {},
   "source": [
    "## Undersampled"
   ]
  },
  {
   "cell_type": "code",
   "execution_count": 19,
   "metadata": {},
   "outputs": [],
   "source": [
    "# get_logreg_results(X_train, X_test, y_train, y_test)"
   ]
  },
  {
   "cell_type": "code",
   "execution_count": 20,
   "metadata": {},
   "outputs": [],
   "source": [
    "# get_svm_results(X_train, X_test, y_train, y_test)"
   ]
  },
  {
   "cell_type": "markdown",
   "metadata": {},
   "source": [
    "## Not Undersampled"
   ]
  },
  {
   "cell_type": "code",
   "execution_count": 21,
   "metadata": {},
   "outputs": [],
   "source": [
    "# get_logreg_results(X, X_test, y_train, y_test)"
   ]
  },
  {
   "cell_type": "code",
   "execution_count": 22,
   "metadata": {},
   "outputs": [],
   "source": [
    "# get_svm_results(X_train, X_test, y_train, y_test)"
   ]
  },
  {
   "cell_type": "code",
   "execution_count": 23,
   "metadata": {},
   "outputs": [],
   "source": [
    "#  def get_undersampled(df, threshold=200, window=10):\n",
    "#         indices = df['label'].value_counts()[df['label'].value_counts() > threshold].index.tolist()\n",
    "\n",
    "#         for ind in indices:\n",
    "#             over_df = df[df['label'] == ind].reset_index(drop=True)\n",
    "#             df = df.drop(df[df['label'] == ind].index)\n",
    "#             to_drop = np.random.randint(threshold-window, \n",
    "#                                         threshold+window)\n",
    "\n",
    "#             trans_ids = np.random.choice(range(len(over_df)),\n",
    "#                                          to_drop)\n",
    "\n",
    "#             dfs_to_add = over_df.iloc[trans_ids]\n",
    "#             df = pd.concat([df, dfs_to_add]).reset_index(drop=True)\n",
    "\n",
    "\n",
    "#         # Shuffle result\n",
    "#         df = df.sample(frac=1).reset_index(drop=True)\n",
    "\n",
    "#         return df"
   ]
  },
  {
   "cell_type": "code",
   "execution_count": null,
   "metadata": {},
   "outputs": [],
   "source": []
  },
  {
   "cell_type": "markdown",
   "metadata": {},
   "source": [
    "# CNN Text Classification, no undersamplng"
   ]
  },
  {
   "cell_type": "code",
   "execution_count": 24,
   "metadata": {},
   "outputs": [],
   "source": [
    "import gensim\n",
    "import torch\n",
    "import torch.nn as nn\n",
    "from torch.autograd import Variable\n",
    "import torch.optim as optim\n",
    "import torch.nn.functional as F\n",
    "import random"
   ]
  },
  {
   "cell_type": "code",
   "execution_count": 25,
   "metadata": {},
   "outputs": [],
   "source": [
    "# !cp train_5500.label train_5500.label.txt"
   ]
  },
  {
   "cell_type": "code",
   "execution_count": 26,
   "metadata": {},
   "outputs": [],
   "source": [
    "# flatten = lambda l: [item for sublist in l for item in sublist]\n",
    "# def flatten2(l):\n",
    "#     res = []\n",
    "#     for elem in l:\n",
    "#         for item in elem.split(' '):\n",
    "# #             a.append(item)\n",
    "#             res.append(item)\n",
    "#     return res\n",
    "            "
   ]
  },
  {
   "cell_type": "code",
   "execution_count": 27,
   "metadata": {},
   "outputs": [],
   "source": [
    "# data = open('train_5500.label.txt', 'r', encoding='latin-1').readlines()\n",
    "\n",
    "# data = [[d.split(':')[1][:-1], d.split(':')[0]] for d in data]\n",
    "\n",
    "# X_2, y_2 = list(zip(*data))\n",
    "# vocab = list(set(flatten2(X_2)))#converts sentences into sequence of characters, and finds unique set of characters\n",
    "# X_2 = [i.split(' ') for i in X_2 ]\n",
    "# ### Num masking "
   ]
  },
  {
   "cell_type": "markdown",
   "metadata": {},
   "source": [
    "# Create Vocabulary of entire dataset"
   ]
  },
  {
   "cell_type": "code",
   "execution_count": 28,
   "metadata": {},
   "outputs": [
    {
     "name": "stderr",
     "output_type": "stream",
     "text": [
      "100%|██████████| 1850/1850 [00:04<00:00, 408.70it/s]\n"
     ]
    }
   ],
   "source": [
    "a = {}\n",
    "res =[a.update(train_corp[i].to_bag_of_terms(ngrams=1, as_strings=True))  for i in tqdm(range(len(train_corp)))]"
   ]
  },
  {
   "cell_type": "code",
   "execution_count": null,
   "metadata": {},
   "outputs": [],
   "source": []
  },
  {
   "cell_type": "markdown",
   "metadata": {},
   "source": [
    "# Create Vocab of features"
   ]
  },
  {
   "cell_type": "code",
   "execution_count": 29,
   "metadata": {},
   "outputs": [
    {
     "name": "stderr",
     "output_type": "stream",
     "text": [
      "100%|██████████| 76633/76633 [00:00<00:00, 1504771.02it/s]\n"
     ]
    }
   ],
   "source": [
    "word2index={'<PAD>': 0, '<UNK>': 1}\n",
    "for key in tqdm(a.keys()):\n",
    "    if key not in word2index:\n",
    "        word2index[key] = len(word2index)\n",
    "index2word = {v:k for k, v in word2index.items()}#loop through sets, and set the value as index, and key as value\n",
    "\n",
    "# word2index2={'<PAD>': 0, '<UNK>': 1}\n",
    "# for key in vocab:\n",
    "#     if key not in word2index2:\n",
    "#         word2index2[key] = len(word2index2)\n",
    "# index2word2 = {v:k for k, v in word2index2.items()}#loop through sets, and set the value as index, and key as value"
   ]
  },
  {
   "cell_type": "code",
   "execution_count": 30,
   "metadata": {},
   "outputs": [],
   "source": [
    "train_labels = df[\"label\"].tolist()"
   ]
  },
  {
   "cell_type": "markdown",
   "metadata": {},
   "source": [
    "# Create Label Vocab"
   ]
  },
  {
   "cell_type": "code",
   "execution_count": 31,
   "metadata": {},
   "outputs": [],
   "source": [
    "target2index = {}\n",
    "\n",
    "for cl in set(train_labels):\n",
    "    if target2index.get(cl) is None:\n",
    "        target2index[cl] = len(target2index)# assign an index to unique labels\n",
    "\n",
    "index2target = {v:k for k, v in target2index.items()}\n",
    "\n",
    "\n",
    "# target2index2 = {}\n",
    "\n",
    "# for cl in set(y_2):\n",
    "#     if target2index2.get(cl) is None:\n",
    "#         target2index2[cl] = len(target2index2)# assign an index to unique labels\n",
    "\n",
    "# index2target2 = {v:k for k, v in target2index2.items()}"
   ]
  },
  {
   "cell_type": "code",
   "execution_count": null,
   "metadata": {},
   "outputs": [],
   "source": []
  },
  {
   "cell_type": "code",
   "execution_count": 32,
   "metadata": {},
   "outputs": [],
   "source": [
    "# word2index2"
   ]
  },
  {
   "cell_type": "code",
   "execution_count": 33,
   "metadata": {},
   "outputs": [
    {
     "name": "stderr",
     "output_type": "stream",
     "text": [
      "100%|██████████| 1850/1850 [00:02<00:00, 690.14it/s]\n"
     ]
    }
   ],
   "source": [
    "X = []\n",
    "X+=[list(train_corp[i].tokens) for i in tqdm(range(len(train_corp)))]"
   ]
  },
  {
   "cell_type": "code",
   "execution_count": 34,
   "metadata": {},
   "outputs": [
    {
     "data": {
      "text/plain": [
       "1850"
      ]
     },
     "execution_count": 34,
     "metadata": {},
     "output_type": "execute_result"
    }
   ],
   "source": [
    "len(X)"
   ]
  },
  {
   "cell_type": "code",
   "execution_count": 89,
   "metadata": {},
   "outputs": [],
   "source": [
    "def getBatch(batch_size, train_data):\n",
    "    random.shuffle(train_data)\n",
    "    sindex = 0\n",
    "    eindex = batch_size\n",
    "    while eindex < len(train_data):\n",
    "        batch = train_data[sindex: eindex]\n",
    "        temp = eindex\n",
    "        eindex = eindex + batch_size\n",
    "        sindex = temp\n",
    "        yield batch\n",
    "    \n",
    "    if eindex >= len(train_data):\n",
    "        batch = train_data[sindex:]\n",
    "        yield batch\n",
    "\n",
    "def pad_to_batch(batch):\n",
    "    x,y = zip(*batch)\n",
    "    max_x = max([s.size(1) for s in x])\n",
    "    max_x = max(9,max_x)\n",
    "\n",
    "    x_p = []\n",
    "    for i in range(len(batch)):\n",
    "        if x[i].size(1) < max_x:\n",
    "#             print(x[i].size(1))\n",
    "            x_p.append(torch.cat([x[i], Variable(LongTensor([word2index['<PAD>']] * (max_x - x[i].size(1)))).view(1, -1)], 1))\n",
    "        else:\n",
    "            x_p.append(x[i])\n",
    "    return torch.cat(x_p), torch.cat(y).view(-1)\n",
    "\n",
    "def pad_sample(batch):\n",
    "    max_x = max([s.size(1) for s in batch])\n",
    "#     max_x = max(5,max_x)\n",
    "\n",
    "    x_p = []\n",
    "    for i in range(len(batch)):\n",
    "        if x[i].size(1) < max_x:\n",
    "#             print(x[i].size(1))\n",
    "            x_p.append(torch.cat([x[i], Variable(LongTensor([word2index['<PAD>']] * (max_x - x[i].size(1)))).view(1, -1)], 1))\n",
    "        else:\n",
    "            x_p.append(x[i])\n",
    "    return torch.cat(x_p), torch.cat(y).view(-1)\n",
    "\n",
    "def prepare_sequence(seq, to_index):\n",
    "    '''\n",
    "    Converts list of tokens in to list of indicies\n",
    "    '''\n",
    "    idxs = list(map(lambda w: to_index[w] if to_index.get(w) is not None else to_index[\"<UNK>\"], seq))\n",
    "    return Variable(LongTensor(idxs))\n",
    "def prepare_sequence_textacy(seq, to_index):\n",
    "    '''\n",
    "    Converts list of tokens in to list of indicies\n",
    "    '''\n",
    "    idxs = list(map(lambda w: to_index[str(w)] if to_index.get((str(w))) is not None else to_index[\"<UNK>\"], seq))\n",
    "    return Variable(LongTensor(idxs))\n",
    "def prepare_sequence2(seq, to_index):\n",
    "    '''\n",
    "    Converts list of tokens in to list of indicies\n",
    "    '''\n",
    "    idxs = list(map(lambda w: to_index[w] if to_index.get(w) is not None else to_index[\"<UNK>\"], seq))\n",
    "    return Variable(LongTensor(idxs))"
   ]
  },
  {
   "cell_type": "code",
   "execution_count": 36,
   "metadata": {},
   "outputs": [],
   "source": [
    "# y_2[0]"
   ]
  },
  {
   "cell_type": "code",
   "execution_count": 37,
   "metadata": {},
   "outputs": [],
   "source": [
    "# list(zip(X_2,y_2))[0]"
   ]
  },
  {
   "cell_type": "code",
   "execution_count": 38,
   "metadata": {},
   "outputs": [],
   "source": [
    "# check = list(zip(X_2,y_2))\n",
    "# print([w for w in check[0][0]])\n",
    "# print(word2index2.get('n'))\n",
    "# list(map(lambda w: word2index2[w] if word2index2.get(w) is not None else word2index2[\"<UNK>\"], check[0][0]))"
   ]
  },
  {
   "cell_type": "code",
   "execution_count": 39,
   "metadata": {},
   "outputs": [],
   "source": [
    "# prepare_sequence(X_2[0][0], word2index2).view(1, -1)"
   ]
  },
  {
   "cell_type": "code",
   "execution_count": 40,
   "metadata": {},
   "outputs": [],
   "source": [
    "# word2index2['m']"
   ]
  },
  {
   "cell_type": "code",
   "execution_count": 41,
   "metadata": {},
   "outputs": [],
   "source": [
    "USE_CUDA = torch.cuda.is_available()\n",
    "gpus = [0]\n",
    "torch.cuda.set_device(gpus[0])\n",
    "\n",
    "FloatTensor = torch.cuda.FloatTensor if USE_CUDA else torch.FloatTensor\n",
    "LongTensor = torch.cuda.LongTensor if USE_CUDA else torch.LongTensor\n",
    "ByteTensor = torch.cuda.ByteTensor if USE_CUDA else torch.ByteTensor"
   ]
  },
  {
   "cell_type": "code",
   "execution_count": 42,
   "metadata": {},
   "outputs": [],
   "source": [
    "# word2index[str(X[0][0])]"
   ]
  },
  {
   "cell_type": "code",
   "execution_count": 43,
   "metadata": {},
   "outputs": [
    {
     "data": {
      "text/plain": [
       "Variable containing:\n",
       "     1\n",
       "     1\n",
       " 45251\n",
       "  ⋮   \n",
       " 35890\n",
       " 13253\n",
       "     1\n",
       "[torch.cuda.LongTensor of size 3572 (GPU 0)]"
      ]
     },
     "execution_count": 43,
     "metadata": {},
     "output_type": "execute_result"
    }
   ],
   "source": [
    "# X\n",
    "prepare_sequence_textacy(X[4], word2index)"
   ]
  },
  {
   "cell_type": "code",
   "execution_count": 44,
   "metadata": {},
   "outputs": [
    {
     "name": "stderr",
     "output_type": "stream",
     "text": [
      "1850it [00:09, 185.97it/s]\n"
     ]
    }
   ],
   "source": [
    "X_p, y_p = [], []\n",
    "for pair in tqdm(zip(X,train_labels)):\n",
    "    X_p.append(prepare_sequence_textacy(pair[0], word2index).view(1, -1))\n",
    "#     print(X_p)\n",
    "    y_p.append(Variable(LongTensor([target2index[pair[1]]])).view(1, -1))\n",
    "    \n",
    "data_p = list(zip(X_p, y_p))\n",
    "random.shuffle(data_p)\n",
    "\n",
    "train_data = data_p[: int(len(data_p) * 0.8)]\n",
    "test_data = data_p[int(len(data_p) * 0.8):]"
   ]
  },
  {
   "cell_type": "code",
   "execution_count": 45,
   "metadata": {},
   "outputs": [
    {
     "data": {
      "text/plain": [
       "370"
      ]
     },
     "execution_count": 45,
     "metadata": {},
     "output_type": "execute_result"
    }
   ],
   "source": [
    "len(test_data)"
   ]
  },
  {
   "cell_type": "code",
   "execution_count": 46,
   "metadata": {},
   "outputs": [],
   "source": [
    "# test_data[9]"
   ]
  },
  {
   "cell_type": "code",
   "execution_count": 47,
   "metadata": {},
   "outputs": [],
   "source": [
    "# prepare for dummy dataset"
   ]
  },
  {
   "cell_type": "code",
   "execution_count": 48,
   "metadata": {},
   "outputs": [],
   "source": [
    "# X_p, y_p = [], []\n",
    "# for pair in zip(X_2,y_2):\n",
    "#     X_p.append(prepare_sequence(pair[0], word2index2).view(1, -1))\n",
    "#     y_p.append(Variable(LongTensor([target2index2[pair[1]]])).view(1, -1))\n",
    "\n",
    "\n",
    "# data_p2 = list(zip(X_p, y_p))\n",
    "# # print([i[0].shape[1] for i in data_p2 if i[0].shape[1] < 4])\n",
    "# # print(data_p2)\n",
    "# # random.shuffle(data_p2)\n",
    "\n",
    "# train_data2 = data_p2[: int(len(data_p) * 0.9)]#BE CAREFUL WITH REUSING VARIABLES\n",
    "# test_data2 = data_p2[int(len(data_p) * 0.9):]"
   ]
  },
  {
   "cell_type": "code",
   "execution_count": 49,
   "metadata": {},
   "outputs": [],
   "source": [
    "# test_data2[0][0]"
   ]
  },
  {
   "cell_type": "markdown",
   "metadata": {},
   "source": [
    "## Load vectors"
   ]
  },
  {
   "cell_type": "code",
   "execution_count": 50,
   "metadata": {},
   "outputs": [],
   "source": [
    "model2 = gensim.models.KeyedVectors.load_word2vec_format('data/GoogleNews-vectors-negative300.txt', binary=False)"
   ]
  },
  {
   "cell_type": "code",
   "execution_count": 51,
   "metadata": {},
   "outputs": [
    {
     "name": "stderr",
     "output_type": "stream",
     "text": [
      "100%|██████████| 76635/76635 [00:00<00:00, 85778.36it/s]\n"
     ]
    }
   ],
   "source": [
    "pretrained = []\n",
    "for key in tqdm(index2word.keys()):\n",
    "    '''\n",
    "    Here for all the words in vocab, return index, \n",
    "    then find word embedding associated with that word\n",
    "    \n",
    "    NOTE: THIS ONLY WORKS BECAUSE WHEN MAKING WORD2INDEX, \n",
    "    VALUES GUARENTEED TO BE IN ASCENDING ORDER\n",
    "    '''\n",
    "#     print(key)\n",
    "    try:\n",
    "#         print(index2word[key],model[index2word[key]].shape)\n",
    "        pretrained.append(model2[index2word[key]])\n",
    "    except:\n",
    "#         print(\"Random\")\n",
    "        pretrained.append(np.random.randn(300))\n",
    "        \n",
    "pretrained_vectors = np.vstack(pretrained)"
   ]
  },
  {
   "cell_type": "code",
   "execution_count": 52,
   "metadata": {},
   "outputs": [],
   "source": [
    "## For dummy dataset\n",
    "# pretrained = []\n",
    "# for key in index2word2.keys():\n",
    "#     '''\n",
    "#     Here for all the words in vocab, return index, \n",
    "#     then find word embedding associated with that word\n",
    "    \n",
    "#     NOTE: THIS ONLY WORKS BECAUSE WHEN MAKING WORD2INDEX, \n",
    "#     VALUES GUARENTEED TO BE IN ASCENDING ORDER\n",
    "#     '''\n",
    "# #     print(key)\n",
    "#     try:\n",
    "# #         print(index2word[key],model[index2word2[key]].shape)\n",
    "#         pretrained.append(model2[index2word[key]])\n",
    "#     except:\n",
    "#         print(\"Random\")\n",
    "#         pretrained.append(np.random.randn(300))\n",
    "        \n",
    "# pretrained_vectors = np.vstack(pretrained)"
   ]
  },
  {
   "cell_type": "code",
   "execution_count": 53,
   "metadata": {},
   "outputs": [],
   "source": [
    "# train_data2[5]"
   ]
  },
  {
   "cell_type": "code",
   "execution_count": 54,
   "metadata": {},
   "outputs": [
    {
     "data": {
      "text/plain": [
       "1480"
      ]
     },
     "execution_count": 54,
     "metadata": {},
     "output_type": "execute_result"
    }
   ],
   "source": [
    "len(train_data)"
   ]
  },
  {
   "cell_type": "code",
   "execution_count": 55,
   "metadata": {},
   "outputs": [],
   "source": [
    "class  CNNClassifier(nn.Module):\n",
    "    \n",
    "    def __init__(self, vocab_size, embedding_dim, output_size, kernel_dim=100, kernel_sizes=(2, 3, 4), dropout=0.5):\n",
    "        super(CNNClassifier,self).__init__()\n",
    "\n",
    "        self.embedding = nn.Embedding(vocab_size, embedding_dim)\n",
    "        self.convs = nn.ModuleList([nn.Conv2d(1, kernel_dim, (K, embedding_dim)) for K in kernel_sizes])\n",
    "\n",
    "        # kernal_size = (K,D) \n",
    "        self.dropout = nn.Dropout(dropout)\n",
    "        self.fc = nn.Linear(len(kernel_sizes) * kernel_dim, output_size)\n",
    "    \n",
    "    \n",
    "    def init_weights(self, pretrained_word_vectors, is_static=False):\n",
    "        self.embedding.weight = nn.Parameter(torch.from_numpy(pretrained_word_vectors).float())\n",
    "        if is_static:\n",
    "            self.embedding.weight.requires_grad = False\n",
    "\n",
    "\n",
    "    def forward(self, inputs, is_training=False):\n",
    "        inputs = self.embedding(inputs).unsqueeze(1) # (B,1,T,D)\n",
    "        inputs = [F.relu(conv(inputs)).squeeze(3) for conv in self.convs] #[(N,Co,W), ...]*len(Ks)\n",
    "        inputs = [F.max_pool1d(i, i.size(2)).squeeze(2) for i in inputs] #[(N,Co), ...]*len(Ks)\n",
    "\n",
    "        concated = torch.cat(inputs, 1)\n",
    "\n",
    "        if is_training:\n",
    "            concated = self.dropout(concated) # (N,len(Ks)*Co)\n",
    "        out = self.fc(concated) \n",
    "        return F.log_softmax(out)"
   ]
  },
  {
   "cell_type": "code",
   "execution_count": 56,
   "metadata": {},
   "outputs": [],
   "source": [
    "# EPOCH = 20\n",
    "# BATCH_SIZE = 10\n",
    "# KERNEL_SIZES = [5,10,15]\n",
    "# KERNEL_DIM = 100\n",
    "# LR = 0.001"
   ]
  },
  {
   "cell_type": "code",
   "execution_count": 67,
   "metadata": {},
   "outputs": [],
   "source": [
    "EPOCH = 100\n",
    "BATCH_SIZE = 2\n",
    "KERNEL_SIZES = [3,5,7]\n",
    "KERNEL_DIM = 100\n",
    "LR = 0.001\n",
    "\n",
    "model = CNNClassifier(len(word2index), 300, len(target2index), KERNEL_DIM, KERNEL_SIZES)\n",
    "model.init_weights(pretrained_vectors) # initialize embedding matrix using pretrained vectors\n",
    "\n",
    "if USE_CUDA:\n",
    "    model = model.cuda()\n",
    "    \n",
    "loss_function = nn.CrossEntropyLoss()\n",
    "optimizer = optim.Adam(model.parameters(), lr=LR)"
   ]
  },
  {
   "cell_type": "code",
   "execution_count": 68,
   "metadata": {},
   "outputs": [],
   "source": [
    "def acc():\n",
    "    accuracy = 0\n",
    "    for test in test_data:\n",
    "        if test[0].shape[1]>3:# bug I need to fix\n",
    "            pred = model(test[0]).max(1)[1]\n",
    "            pred = pred.data.tolist()[0]\n",
    "            target = test[1].data.tolist()[0][0]\n",
    "            if pred == target:\n",
    "                accuracy += 1\n",
    "\n",
    "\n",
    "    acc = accuracy/len(test_data) * 100\n",
    "#     print(acc)\n",
    "    return acc\n",
    "def f1():\n",
    "    predictions= []\n",
    "    y_test=[]\n",
    "    for i,test in enumerate(getBatch(1, test_data)):\n",
    "        inputs,targets = pad_to_batch(test)\n",
    "#         if test[0].shape[1]>3:# bug I need to fix\n",
    "        predictions.append(model(inputs).max(1)[1].data[0])\n",
    "#         print(targets.data.tolist()[0])\n",
    "        y_test.append(targets.data.tolist()[0])\n",
    "#         print(predictions[-1],'==',y_test[-1])\n",
    "            \n",
    "    f1 = f1_score(y_test, predictions, average=\"weighted\")\n",
    "#     print(\"Naive F1 score: {}\".format(f1))\n",
    "    return f1\n",
    "    "
   ]
  },
  {
   "cell_type": "code",
   "execution_count": 59,
   "metadata": {},
   "outputs": [
    {
     "data": {
      "text/plain": [
       "370"
      ]
     },
     "execution_count": 59,
     "metadata": {},
     "output_type": "execute_result"
    }
   ],
   "source": [
    "len(test_data)"
   ]
  },
  {
   "cell_type": "code",
   "execution_count": 60,
   "metadata": {},
   "outputs": [],
   "source": [
    "# for i in [enumerate(getBatch(10, test_data))in range(len(test_data))]:\n",
    "#     print(i)"
   ]
  },
  {
   "cell_type": "code",
   "execution_count": 61,
   "metadata": {},
   "outputs": [],
   "source": [
    "# from tqdm import tqdm "
   ]
  },
  {
   "cell_type": "code",
   "execution_count": 69,
   "metadata": {},
   "outputs": [
    {
     "name": "stderr",
     "output_type": "stream",
     "text": [
      "\n",
      "  0%|          | 0/100 [00:00<?, ?it/s]\u001b[A\n"
     ]
    },
    {
     "name": "stdout",
     "output_type": "stream",
     "text": [
      "[0/100] mean_loss : 2.82\n"
     ]
    },
    {
     "name": "stderr",
     "output_type": "stream",
     "text": [
      "/opt/conda/envs/pytorch-py35/lib/python3.5/site-packages/sklearn/metrics/classification.py:1135: UndefinedMetricWarning: F-score is ill-defined and being set to 0.0 in labels with no predicted samples.\n",
      "  'precision', 'predicted', average, warn_for)\n",
      "\r",
      "  1%|          | 1/100 [00:53<1:28:11, 53.45s/it]"
     ]
    },
    {
     "name": "stdout",
     "output_type": "stream",
     "text": [
      "Train Acc:  37.2972972972973 F1 score on Test Set 0.22722429839\n",
      "[1/100] mean_loss : 2.03\n"
     ]
    },
    {
     "name": "stderr",
     "output_type": "stream",
     "text": [
      "\r",
      "  2%|▏         | 2/100 [01:47<1:27:37, 53.65s/it]"
     ]
    },
    {
     "name": "stdout",
     "output_type": "stream",
     "text": [
      "Train Acc:  33.24324324324324 F1 score on Test Set 0.295376322284\n",
      "[2/100] mean_loss : 1.77\n"
     ]
    },
    {
     "name": "stderr",
     "output_type": "stream",
     "text": [
      "\r",
      "  3%|▎         | 3/100 [02:42<1:27:08, 53.90s/it]"
     ]
    },
    {
     "name": "stdout",
     "output_type": "stream",
     "text": [
      "Train Acc:  27.56756756756757 F1 score on Test Set 0.155922575648\n",
      "[3/100] mean_loss : 1.51\n"
     ]
    },
    {
     "name": "stderr",
     "output_type": "stream",
     "text": [
      "\r",
      "  4%|▍         | 4/100 [03:36<1:26:34, 54.11s/it]"
     ]
    },
    {
     "name": "stdout",
     "output_type": "stream",
     "text": [
      "Train Acc:  41.891891891891895 F1 score on Test Set 0.354854061296\n",
      "[4/100] mean_loss : 1.05\n"
     ]
    },
    {
     "name": "stderr",
     "output_type": "stream",
     "text": [
      "/opt/conda/envs/pytorch-py35/lib/python3.5/site-packages/sklearn/metrics/classification.py:1137: UndefinedMetricWarning: F-score is ill-defined and being set to 0.0 in labels with no true samples.\n",
      "  'recall', 'true', average, warn_for)\n",
      "\r",
      "  5%|▌         | 5/100 [04:31<1:26:02, 54.34s/it]"
     ]
    },
    {
     "name": "stdout",
     "output_type": "stream",
     "text": [
      "Train Acc:  45.13513513513514 F1 score on Test Set 0.394126479536\n",
      "[5/100] mean_loss : 0.66\n"
     ]
    },
    {
     "name": "stderr",
     "output_type": "stream",
     "text": [
      "\r",
      "  6%|▌         | 6/100 [05:26<1:25:22, 54.50s/it]"
     ]
    },
    {
     "name": "stdout",
     "output_type": "stream",
     "text": [
      "Train Acc:  43.513513513513516 F1 score on Test Set 0.390676504444\n",
      "[6/100] mean_loss : 0.42\n"
     ]
    },
    {
     "name": "stderr",
     "output_type": "stream",
     "text": [
      "\r",
      "  7%|▋         | 7/100 [06:21<1:24:37, 54.59s/it]"
     ]
    },
    {
     "name": "stdout",
     "output_type": "stream",
     "text": [
      "Train Acc:  41.62162162162162 F1 score on Test Set 0.388233937953\n",
      "[7/100] mean_loss : 0.25\n"
     ]
    },
    {
     "name": "stderr",
     "output_type": "stream",
     "text": [
      "\r",
      "  8%|▊         | 8/100 [07:16<1:23:51, 54.69s/it]"
     ]
    },
    {
     "name": "stdout",
     "output_type": "stream",
     "text": [
      "Train Acc:  41.62162162162162 F1 score on Test Set 0.385197186263\n",
      "[8/100] mean_loss : 0.14\n"
     ]
    },
    {
     "name": "stderr",
     "output_type": "stream",
     "text": [
      "\r",
      "  9%|▉         | 9/100 [08:10<1:22:59, 54.72s/it]"
     ]
    },
    {
     "name": "stdout",
     "output_type": "stream",
     "text": [
      "Train Acc:  39.45945945945946 F1 score on Test Set 0.364089991051\n",
      "[9/100] mean_loss : 0.14\n"
     ]
    },
    {
     "name": "stderr",
     "output_type": "stream",
     "text": [
      "\r",
      " 10%|█         | 10/100 [09:05<1:22:11, 54.80s/it]"
     ]
    },
    {
     "name": "stdout",
     "output_type": "stream",
     "text": [
      "Train Acc:  40.0 F1 score on Test Set 0.385135425891\n",
      "[10/100] mean_loss : 0.13\n"
     ]
    },
    {
     "name": "stderr",
     "output_type": "stream",
     "text": [
      "\r",
      " 11%|█         | 11/100 [10:00<1:21:24, 54.88s/it]"
     ]
    },
    {
     "name": "stdout",
     "output_type": "stream",
     "text": [
      "Train Acc:  38.37837837837838 F1 score on Test Set 0.360869234169\n",
      "[11/100] mean_loss : 0.13\n"
     ]
    },
    {
     "name": "stderr",
     "output_type": "stream",
     "text": [
      "\r",
      " 12%|█▏        | 12/100 [10:55<1:20:12, 54.68s/it]"
     ]
    },
    {
     "name": "stdout",
     "output_type": "stream",
     "text": [
      "Train Acc:  37.83783783783784 F1 score on Test Set 0.370486187708\n",
      "[12/100] mean_loss : 0.14\n"
     ]
    },
    {
     "name": "stderr",
     "output_type": "stream",
     "text": [
      "\r",
      " 13%|█▎        | 13/100 [11:49<1:19:16, 54.67s/it]"
     ]
    },
    {
     "name": "stdout",
     "output_type": "stream",
     "text": [
      "Train Acc:  44.32432432432433 F1 score on Test Set 0.397670145076\n",
      "[13/100] mean_loss : 0.08\n"
     ]
    },
    {
     "name": "stderr",
     "output_type": "stream",
     "text": [
      "\r",
      " 14%|█▍        | 14/100 [12:44<1:18:17, 54.62s/it]"
     ]
    },
    {
     "name": "stdout",
     "output_type": "stream",
     "text": [
      "Train Acc:  43.24324324324324 F1 score on Test Set 0.410351456341\n",
      "[14/100] mean_loss : 0.06\n"
     ]
    },
    {
     "name": "stderr",
     "output_type": "stream",
     "text": [
      "\r",
      " 15%|█▌        | 15/100 [13:39<1:17:28, 54.68s/it]"
     ]
    },
    {
     "name": "stdout",
     "output_type": "stream",
     "text": [
      "Train Acc:  40.81081081081081 F1 score on Test Set 0.379439730133\n",
      "[15/100] mean_loss : 0.07\n"
     ]
    },
    {
     "name": "stderr",
     "output_type": "stream",
     "text": [
      "\r",
      " 16%|█▌        | 16/100 [14:33<1:16:24, 54.58s/it]"
     ]
    },
    {
     "name": "stdout",
     "output_type": "stream",
     "text": [
      "Train Acc:  37.83783783783784 F1 score on Test Set 0.366801255328\n",
      "[16/100] mean_loss : 0.05\n"
     ]
    },
    {
     "name": "stderr",
     "output_type": "stream",
     "text": [
      "\r",
      " 17%|█▋        | 17/100 [15:27<1:15:21, 54.48s/it]"
     ]
    },
    {
     "name": "stdout",
     "output_type": "stream",
     "text": [
      "Train Acc:  38.91891891891892 F1 score on Test Set 0.372576034629\n",
      "[17/100] mean_loss : 0.05\n"
     ]
    },
    {
     "name": "stderr",
     "output_type": "stream",
     "text": [
      "\r",
      " 18%|█▊        | 18/100 [16:22<1:14:37, 54.60s/it]"
     ]
    },
    {
     "name": "stdout",
     "output_type": "stream",
     "text": [
      "Train Acc:  37.83783783783784 F1 score on Test Set 0.364468918629\n",
      "[18/100] mean_loss : 0.07\n"
     ]
    },
    {
     "name": "stderr",
     "output_type": "stream",
     "text": [
      "\r",
      " 19%|█▉        | 19/100 [17:17<1:13:47, 54.66s/it]"
     ]
    },
    {
     "name": "stdout",
     "output_type": "stream",
     "text": [
      "Train Acc:  39.189189189189186 F1 score on Test Set 0.383367084268\n",
      "[19/100] mean_loss : 0.06\n"
     ]
    },
    {
     "name": "stderr",
     "output_type": "stream",
     "text": [
      "\r",
      " 20%|██        | 20/100 [18:12<1:13:13, 54.92s/it]"
     ]
    },
    {
     "name": "stdout",
     "output_type": "stream",
     "text": [
      "Train Acc:  36.75675675675676 F1 score on Test Set 0.363754121301\n",
      "[20/100] mean_loss : 0.06\n"
     ]
    },
    {
     "name": "stderr",
     "output_type": "stream",
     "text": [
      "\r",
      " 21%|██        | 21/100 [19:07<1:12:17, 54.90s/it]"
     ]
    },
    {
     "name": "stdout",
     "output_type": "stream",
     "text": [
      "Train Acc:  41.891891891891895 F1 score on Test Set 0.39003339319\n",
      "[21/100] mean_loss : 0.05\n"
     ]
    },
    {
     "name": "stderr",
     "output_type": "stream",
     "text": [
      "\r",
      " 22%|██▏       | 22/100 [20:02<1:11:20, 54.87s/it]"
     ]
    },
    {
     "name": "stdout",
     "output_type": "stream",
     "text": [
      "Train Acc:  40.27027027027027 F1 score on Test Set 0.379387029934\n",
      "[22/100] mean_loss : 0.08\n"
     ]
    },
    {
     "name": "stderr",
     "output_type": "stream",
     "text": [
      "\r",
      " 23%|██▎       | 23/100 [20:57<1:10:23, 54.85s/it]"
     ]
    },
    {
     "name": "stdout",
     "output_type": "stream",
     "text": [
      "Train Acc:  38.37837837837838 F1 score on Test Set 0.350675987168\n",
      "[23/100] mean_loss : 0.04\n"
     ]
    },
    {
     "name": "stderr",
     "output_type": "stream",
     "text": [
      "\r",
      " 24%|██▍       | 24/100 [21:52<1:09:32, 54.90s/it]"
     ]
    },
    {
     "name": "stdout",
     "output_type": "stream",
     "text": [
      "Train Acc:  34.86486486486486 F1 score on Test Set 0.346599157521\n",
      "[24/100] mean_loss : 0.04\n"
     ]
    },
    {
     "name": "stderr",
     "output_type": "stream",
     "text": [
      "\r",
      " 25%|██▌       | 25/100 [22:46<1:08:24, 54.72s/it]"
     ]
    },
    {
     "name": "stdout",
     "output_type": "stream",
     "text": [
      "Train Acc:  40.81081081081081 F1 score on Test Set 0.386126019297\n",
      "[25/100] mean_loss : 0.06\n"
     ]
    },
    {
     "name": "stderr",
     "output_type": "stream",
     "text": [
      "\r",
      " 26%|██▌       | 26/100 [23:41<1:07:32, 54.76s/it]"
     ]
    },
    {
     "name": "stdout",
     "output_type": "stream",
     "text": [
      "Train Acc:  38.648648648648646 F1 score on Test Set 0.345599370954\n",
      "[26/100] mean_loss : 0.06\n"
     ]
    },
    {
     "name": "stderr",
     "output_type": "stream",
     "text": [
      "\r",
      " 27%|██▋       | 27/100 [24:36<1:06:35, 54.73s/it]"
     ]
    },
    {
     "name": "stdout",
     "output_type": "stream",
     "text": [
      "Train Acc:  41.351351351351354 F1 score on Test Set 0.384139562689\n",
      "[27/100] mean_loss : 0.05\n"
     ]
    },
    {
     "name": "stderr",
     "output_type": "stream",
     "text": [
      "\r",
      " 28%|██▊       | 28/100 [25:30<1:05:35, 54.66s/it]"
     ]
    },
    {
     "name": "stdout",
     "output_type": "stream",
     "text": [
      "Train Acc:  39.189189189189186 F1 score on Test Set 0.370259274659\n",
      "[28/100] mean_loss : 0.05\n"
     ]
    },
    {
     "name": "stderr",
     "output_type": "stream",
     "text": [
      "\r",
      " 29%|██▉       | 29/100 [26:25<1:04:43, 54.69s/it]"
     ]
    },
    {
     "name": "stdout",
     "output_type": "stream",
     "text": [
      "Train Acc:  39.729729729729726 F1 score on Test Set 0.383340439297\n",
      "[29/100] mean_loss : 0.05\n"
     ]
    },
    {
     "name": "stderr",
     "output_type": "stream",
     "text": [
      "\r",
      " 30%|███       | 30/100 [27:20<1:03:50, 54.72s/it]"
     ]
    },
    {
     "name": "stdout",
     "output_type": "stream",
     "text": [
      "Train Acc:  41.62162162162162 F1 score on Test Set 0.391258831113\n",
      "[30/100] mean_loss : 0.03\n"
     ]
    },
    {
     "name": "stderr",
     "output_type": "stream",
     "text": [
      "\r",
      " 31%|███       | 31/100 [28:15<1:02:58, 54.76s/it]"
     ]
    },
    {
     "name": "stdout",
     "output_type": "stream",
     "text": [
      "Train Acc:  38.91891891891892 F1 score on Test Set 0.374152464198\n",
      "[31/100] mean_loss : 0.03\n"
     ]
    },
    {
     "name": "stderr",
     "output_type": "stream",
     "text": [
      "\r",
      " 32%|███▏      | 32/100 [29:10<1:02:10, 54.86s/it]"
     ]
    },
    {
     "name": "stdout",
     "output_type": "stream",
     "text": [
      "Train Acc:  39.189189189189186 F1 score on Test Set 0.386054643637\n",
      "[32/100] mean_loss : 0.03\n"
     ]
    },
    {
     "name": "stderr",
     "output_type": "stream",
     "text": [
      "\r",
      " 33%|███▎      | 33/100 [30:05<1:01:20, 54.94s/it]"
     ]
    },
    {
     "name": "stdout",
     "output_type": "stream",
     "text": [
      "Train Acc:  42.7027027027027 F1 score on Test Set 0.39628216749\n",
      "[33/100] mean_loss : 0.02\n"
     ]
    },
    {
     "name": "stderr",
     "output_type": "stream",
     "text": [
      "\r",
      " 34%|███▍      | 34/100 [31:00<1:00:27, 54.96s/it]"
     ]
    },
    {
     "name": "stdout",
     "output_type": "stream",
     "text": [
      "Train Acc:  42.432432432432435 F1 score on Test Set 0.400153770637\n",
      "[34/100] mean_loss : 0.02\n"
     ]
    },
    {
     "name": "stderr",
     "output_type": "stream",
     "text": [
      "\r",
      " 35%|███▌      | 35/100 [31:55<59:37, 55.03s/it]  "
     ]
    },
    {
     "name": "stdout",
     "output_type": "stream",
     "text": [
      "Train Acc:  43.513513513513516 F1 score on Test Set 0.388028634324\n",
      "[35/100] mean_loss : 0.05\n"
     ]
    },
    {
     "name": "stderr",
     "output_type": "stream",
     "text": [
      "\r",
      " 36%|███▌      | 36/100 [32:50<58:43, 55.06s/it]"
     ]
    },
    {
     "name": "stdout",
     "output_type": "stream",
     "text": [
      "Train Acc:  40.81081081081081 F1 score on Test Set 0.37997868397\n",
      "[36/100] mean_loss : 0.03\n"
     ]
    },
    {
     "name": "stderr",
     "output_type": "stream",
     "text": [
      "\r",
      " 37%|███▋      | 37/100 [33:45<57:44, 54.99s/it]"
     ]
    },
    {
     "name": "stdout",
     "output_type": "stream",
     "text": [
      "Train Acc:  42.16216216216216 F1 score on Test Set 0.395603165428\n",
      "[37/100] mean_loss : 0.05\n"
     ]
    },
    {
     "name": "stderr",
     "output_type": "stream",
     "text": [
      "\r",
      " 38%|███▊      | 38/100 [34:40<56:41, 54.86s/it]"
     ]
    },
    {
     "name": "stdout",
     "output_type": "stream",
     "text": [
      "Train Acc:  40.27027027027027 F1 score on Test Set 0.383428283484\n",
      "[38/100] mean_loss : 0.04\n"
     ]
    },
    {
     "name": "stderr",
     "output_type": "stream",
     "text": [
      "\r",
      " 39%|███▉      | 39/100 [35:34<55:47, 54.87s/it]"
     ]
    },
    {
     "name": "stdout",
     "output_type": "stream",
     "text": [
      "Train Acc:  42.7027027027027 F1 score on Test Set 0.392748421741\n",
      "[39/100] mean_loss : 0.03\n"
     ]
    },
    {
     "name": "stderr",
     "output_type": "stream",
     "text": [
      "\r",
      " 40%|████      | 40/100 [36:29<54:49, 54.82s/it]"
     ]
    },
    {
     "name": "stdout",
     "output_type": "stream",
     "text": [
      "Train Acc:  37.567567567567565 F1 score on Test Set 0.366961991439\n",
      "[40/100] mean_loss : 0.02\n"
     ]
    },
    {
     "name": "stderr",
     "output_type": "stream",
     "text": [
      "\r",
      " 41%|████      | 41/100 [37:24<53:55, 54.84s/it]"
     ]
    },
    {
     "name": "stdout",
     "output_type": "stream",
     "text": [
      "Train Acc:  42.432432432432435 F1 score on Test Set 0.404282617783\n",
      "[41/100] mean_loss : 0.02\n"
     ]
    },
    {
     "name": "stderr",
     "output_type": "stream",
     "text": [
      "\r",
      " 42%|████▏     | 42/100 [38:19<53:02, 54.88s/it]"
     ]
    },
    {
     "name": "stdout",
     "output_type": "stream",
     "text": [
      "Train Acc:  42.972972972972975 F1 score on Test Set 0.407411644105\n",
      "[42/100] mean_loss : 0.02\n"
     ]
    },
    {
     "name": "stderr",
     "output_type": "stream",
     "text": [
      "\r",
      " 43%|████▎     | 43/100 [39:14<52:04, 54.82s/it]"
     ]
    },
    {
     "name": "stdout",
     "output_type": "stream",
     "text": [
      "Train Acc:  43.24324324324324 F1 score on Test Set 0.40321586925\n",
      "[43/100] mean_loss : 0.01\n"
     ]
    },
    {
     "name": "stderr",
     "output_type": "stream",
     "text": [
      "\r",
      " 44%|████▍     | 44/100 [40:08<50:56, 54.58s/it]"
     ]
    },
    {
     "name": "stdout",
     "output_type": "stream",
     "text": [
      "Train Acc:  41.08108108108108 F1 score on Test Set 0.388737315194\n",
      "[44/100] mean_loss : 0.05\n"
     ]
    },
    {
     "name": "stderr",
     "output_type": "stream",
     "text": [
      "\r",
      " 45%|████▌     | 45/100 [41:02<49:54, 54.44s/it]"
     ]
    },
    {
     "name": "stdout",
     "output_type": "stream",
     "text": [
      "Train Acc:  42.432432432432435 F1 score on Test Set 0.401159121452\n",
      "[45/100] mean_loss : 0.03\n"
     ]
    },
    {
     "name": "stderr",
     "output_type": "stream",
     "text": [
      "\r",
      " 46%|████▌     | 46/100 [41:56<49:01, 54.47s/it]"
     ]
    },
    {
     "name": "stdout",
     "output_type": "stream",
     "text": [
      "Train Acc:  44.054054054054056 F1 score on Test Set 0.399469052542\n",
      "[46/100] mean_loss : 0.04\n"
     ]
    },
    {
     "name": "stderr",
     "output_type": "stream",
     "text": [
      "\r",
      " 47%|████▋     | 47/100 [42:51<48:06, 54.46s/it]"
     ]
    },
    {
     "name": "stdout",
     "output_type": "stream",
     "text": [
      "Train Acc:  41.08108108108108 F1 score on Test Set 0.394997134015\n",
      "[47/100] mean_loss : 0.04\n"
     ]
    },
    {
     "name": "stderr",
     "output_type": "stream",
     "text": [
      "\r",
      " 48%|████▊     | 48/100 [43:45<47:09, 54.42s/it]"
     ]
    },
    {
     "name": "stdout",
     "output_type": "stream",
     "text": [
      "Train Acc:  40.0 F1 score on Test Set 0.37099194242\n",
      "[48/100] mean_loss : 0.02\n"
     ]
    },
    {
     "name": "stderr",
     "output_type": "stream",
     "text": [
      "\r",
      " 49%|████▉     | 49/100 [44:40<46:21, 54.53s/it]"
     ]
    },
    {
     "name": "stdout",
     "output_type": "stream",
     "text": [
      "Train Acc:  41.891891891891895 F1 score on Test Set 0.37777899528\n",
      "[49/100] mean_loss : 0.02\n"
     ]
    },
    {
     "name": "stderr",
     "output_type": "stream",
     "text": [
      "\r",
      " 50%|█████     | 50/100 [45:35<45:38, 54.77s/it]"
     ]
    },
    {
     "name": "stdout",
     "output_type": "stream",
     "text": [
      "Train Acc:  38.37837837837838 F1 score on Test Set 0.372777247131\n",
      "[50/100] mean_loss : 0.04\n"
     ]
    },
    {
     "name": "stderr",
     "output_type": "stream",
     "text": [
      "\r",
      " 51%|█████     | 51/100 [46:30<44:46, 54.82s/it]"
     ]
    },
    {
     "name": "stdout",
     "output_type": "stream",
     "text": [
      "Train Acc:  34.5945945945946 F1 score on Test Set 0.329691814768\n",
      "[51/100] mean_loss : 0.06\n"
     ]
    },
    {
     "name": "stderr",
     "output_type": "stream",
     "text": [
      "\r",
      " 52%|█████▏    | 52/100 [47:25<43:50, 54.79s/it]"
     ]
    },
    {
     "name": "stdout",
     "output_type": "stream",
     "text": [
      "Train Acc:  39.45945945945946 F1 score on Test Set 0.378378018099\n",
      "[52/100] mean_loss : 0.06\n"
     ]
    },
    {
     "name": "stderr",
     "output_type": "stream",
     "text": [
      "\r",
      " 53%|█████▎    | 53/100 [48:20<43:01, 54.92s/it]"
     ]
    },
    {
     "name": "stdout",
     "output_type": "stream",
     "text": [
      "Train Acc:  43.78378378378379 F1 score on Test Set 0.405270011076\n",
      "[53/100] mean_loss : 0.03\n"
     ]
    },
    {
     "name": "stderr",
     "output_type": "stream",
     "text": [
      "\r",
      " 54%|█████▍    | 54/100 [49:15<42:03, 54.87s/it]"
     ]
    },
    {
     "name": "stdout",
     "output_type": "stream",
     "text": [
      "Train Acc:  42.7027027027027 F1 score on Test Set 0.409856798852\n",
      "[54/100] mean_loss : 0.04\n"
     ]
    },
    {
     "name": "stderr",
     "output_type": "stream",
     "text": [
      "\r",
      " 55%|█████▌    | 55/100 [50:09<41:01, 54.71s/it]"
     ]
    },
    {
     "name": "stdout",
     "output_type": "stream",
     "text": [
      "Train Acc:  39.189189189189186 F1 score on Test Set 0.373037598359\n",
      "[55/100] mean_loss : 0.03\n"
     ]
    },
    {
     "name": "stderr",
     "output_type": "stream",
     "text": [
      "\r",
      " 56%|█████▌    | 56/100 [51:04<40:11, 54.81s/it]"
     ]
    },
    {
     "name": "stdout",
     "output_type": "stream",
     "text": [
      "Train Acc:  40.0 F1 score on Test Set 0.38854078707\n",
      "[56/100] mean_loss : 0.02\n"
     ]
    },
    {
     "name": "stderr",
     "output_type": "stream",
     "text": [
      "\r",
      " 57%|█████▋    | 57/100 [51:59<39:17, 54.83s/it]"
     ]
    },
    {
     "name": "stdout",
     "output_type": "stream",
     "text": [
      "Train Acc:  43.24324324324324 F1 score on Test Set 0.403883278456\n",
      "[57/100] mean_loss : 0.03\n"
     ]
    },
    {
     "name": "stderr",
     "output_type": "stream",
     "text": [
      "\r",
      " 58%|█████▊    | 58/100 [52:54<38:22, 54.83s/it]"
     ]
    },
    {
     "name": "stdout",
     "output_type": "stream",
     "text": [
      "Train Acc:  39.729729729729726 F1 score on Test Set 0.38723777596\n",
      "[58/100] mean_loss : 0.02\n"
     ]
    },
    {
     "name": "stderr",
     "output_type": "stream",
     "text": [
      "\r",
      " 59%|█████▉    | 59/100 [53:48<37:23, 54.72s/it]"
     ]
    },
    {
     "name": "stdout",
     "output_type": "stream",
     "text": [
      "Train Acc:  40.27027027027027 F1 score on Test Set 0.388647655761\n",
      "[59/100] mean_loss : 0.03\n"
     ]
    },
    {
     "name": "stderr",
     "output_type": "stream",
     "text": [
      "\r",
      " 60%|██████    | 60/100 [54:43<36:28, 54.72s/it]"
     ]
    },
    {
     "name": "stdout",
     "output_type": "stream",
     "text": [
      "Train Acc:  40.0 F1 score on Test Set 0.377471045332\n",
      "[60/100] mean_loss : 0.02\n"
     ]
    },
    {
     "name": "stderr",
     "output_type": "stream",
     "text": [
      "\r",
      " 61%|██████    | 61/100 [55:38<35:39, 54.85s/it]"
     ]
    },
    {
     "name": "stdout",
     "output_type": "stream",
     "text": [
      "Train Acc:  39.45945945945946 F1 score on Test Set 0.37677855961\n",
      "[61/100] mean_loss : 0.03\n"
     ]
    },
    {
     "name": "stderr",
     "output_type": "stream",
     "text": [
      "\r",
      " 62%|██████▏   | 62/100 [56:33<34:43, 54.82s/it]"
     ]
    },
    {
     "name": "stdout",
     "output_type": "stream",
     "text": [
      "Train Acc:  41.62162162162162 F1 score on Test Set 0.375335526203\n",
      "[62/100] mean_loss : 0.07\n"
     ]
    },
    {
     "name": "stderr",
     "output_type": "stream",
     "text": [
      "\r",
      " 63%|██████▎   | 63/100 [57:28<33:47, 54.81s/it]"
     ]
    },
    {
     "name": "stdout",
     "output_type": "stream",
     "text": [
      "Train Acc:  40.54054054054054 F1 score on Test Set 0.372714779997\n",
      "[63/100] mean_loss : 0.03\n"
     ]
    },
    {
     "name": "stderr",
     "output_type": "stream",
     "text": [
      "\r",
      " 64%|██████▍   | 64/100 [58:22<32:50, 54.73s/it]"
     ]
    },
    {
     "name": "stdout",
     "output_type": "stream",
     "text": [
      "Train Acc:  39.45945945945946 F1 score on Test Set 0.384230873504\n",
      "[64/100] mean_loss : 0.02\n"
     ]
    },
    {
     "name": "stderr",
     "output_type": "stream",
     "text": [
      "\r",
      " 65%|██████▌   | 65/100 [59:17<31:56, 54.77s/it]"
     ]
    },
    {
     "name": "stdout",
     "output_type": "stream",
     "text": [
      "Train Acc:  38.648648648648646 F1 score on Test Set 0.373946145466\n",
      "[65/100] mean_loss : 0.02\n"
     ]
    },
    {
     "name": "stderr",
     "output_type": "stream",
     "text": [
      "\r",
      " 66%|██████▌   | 66/100 [1:00:12<31:03, 54.82s/it]"
     ]
    },
    {
     "name": "stdout",
     "output_type": "stream",
     "text": [
      "Train Acc:  39.729729729729726 F1 score on Test Set 0.380403282916\n",
      "[66/100] mean_loss : 0.02\n"
     ]
    },
    {
     "name": "stderr",
     "output_type": "stream",
     "text": [
      "\r",
      " 67%|██████▋   | 67/100 [1:01:07<30:09, 54.84s/it]"
     ]
    },
    {
     "name": "stdout",
     "output_type": "stream",
     "text": [
      "Train Acc:  41.891891891891895 F1 score on Test Set 0.381799635557\n",
      "[67/100] mean_loss : 0.04\n"
     ]
    },
    {
     "name": "stderr",
     "output_type": "stream",
     "text": [
      "\r",
      " 68%|██████▊   | 68/100 [1:02:02<29:12, 54.76s/it]"
     ]
    },
    {
     "name": "stdout",
     "output_type": "stream",
     "text": [
      "Train Acc:  42.432432432432435 F1 score on Test Set 0.40359235056\n",
      "[68/100] mean_loss : 0.04\n"
     ]
    },
    {
     "name": "stderr",
     "output_type": "stream",
     "text": [
      "\r",
      " 69%|██████▉   | 69/100 [1:02:57<28:19, 54.81s/it]"
     ]
    },
    {
     "name": "stdout",
     "output_type": "stream",
     "text": [
      "Train Acc:  39.189189189189186 F1 score on Test Set 0.376203259243\n",
      "[69/100] mean_loss : 0.03\n"
     ]
    },
    {
     "name": "stderr",
     "output_type": "stream",
     "text": [
      "\r",
      " 70%|███████   | 70/100 [1:03:52<27:25, 54.85s/it]"
     ]
    },
    {
     "name": "stdout",
     "output_type": "stream",
     "text": [
      "Train Acc:  43.513513513513516 F1 score on Test Set 0.404354602061\n",
      "[70/100] mean_loss : 0.04\n"
     ]
    },
    {
     "name": "stderr",
     "output_type": "stream",
     "text": [
      "\r",
      " 71%|███████   | 71/100 [1:04:46<26:27, 54.76s/it]"
     ]
    },
    {
     "name": "stdout",
     "output_type": "stream",
     "text": [
      "Train Acc:  38.108108108108105 F1 score on Test Set 0.363492158302\n",
      "[71/100] mean_loss : 0.03\n"
     ]
    },
    {
     "name": "stderr",
     "output_type": "stream",
     "text": [
      "\r",
      " 72%|███████▏  | 72/100 [1:05:41<25:33, 54.77s/it]"
     ]
    },
    {
     "name": "stdout",
     "output_type": "stream",
     "text": [
      "Train Acc:  41.08108108108108 F1 score on Test Set 0.391196813302\n",
      "[72/100] mean_loss : 0.02\n"
     ]
    },
    {
     "name": "stderr",
     "output_type": "stream",
     "text": [
      "\r",
      " 73%|███████▎  | 73/100 [1:06:36<24:43, 54.93s/it]"
     ]
    },
    {
     "name": "stdout",
     "output_type": "stream",
     "text": [
      "Train Acc:  40.27027027027027 F1 score on Test Set 0.391588452288\n",
      "[73/100] mean_loss : 0.02\n"
     ]
    },
    {
     "name": "stderr",
     "output_type": "stream",
     "text": [
      "\r",
      " 74%|███████▍  | 74/100 [1:07:31<23:49, 54.97s/it]"
     ]
    },
    {
     "name": "stdout",
     "output_type": "stream",
     "text": [
      "Train Acc:  37.2972972972973 F1 score on Test Set 0.374373441083\n",
      "[74/100] mean_loss : 0.02\n"
     ]
    },
    {
     "name": "stderr",
     "output_type": "stream",
     "text": [
      "\r",
      " 75%|███████▌  | 75/100 [1:08:27<22:57, 55.09s/it]"
     ]
    },
    {
     "name": "stdout",
     "output_type": "stream",
     "text": [
      "Train Acc:  41.08108108108108 F1 score on Test Set 0.390983516584\n",
      "[75/100] mean_loss : 0.01\n"
     ]
    },
    {
     "name": "stderr",
     "output_type": "stream",
     "text": [
      "\r",
      " 76%|███████▌  | 76/100 [1:09:21<21:59, 54.96s/it]"
     ]
    },
    {
     "name": "stdout",
     "output_type": "stream",
     "text": [
      "Train Acc:  40.81081081081081 F1 score on Test Set 0.381367675684\n",
      "[76/100] mean_loss : 0.07\n"
     ]
    },
    {
     "name": "stderr",
     "output_type": "stream",
     "text": [
      "\r",
      " 77%|███████▋  | 77/100 [1:10:16<21:01, 54.85s/it]"
     ]
    },
    {
     "name": "stdout",
     "output_type": "stream",
     "text": [
      "Train Acc:  41.62162162162162 F1 score on Test Set 0.385298214406\n",
      "[77/100] mean_loss : 0.02\n"
     ]
    },
    {
     "name": "stderr",
     "output_type": "stream",
     "text": [
      "\r",
      " 78%|███████▊  | 78/100 [1:11:11<20:08, 54.93s/it]"
     ]
    },
    {
     "name": "stdout",
     "output_type": "stream",
     "text": [
      "Train Acc:  41.08108108108108 F1 score on Test Set 0.396661383074\n",
      "[78/100] mean_loss : 0.02\n"
     ]
    },
    {
     "name": "stderr",
     "output_type": "stream",
     "text": [
      "\r",
      " 79%|███████▉  | 79/100 [1:12:06<19:14, 55.00s/it]"
     ]
    },
    {
     "name": "stdout",
     "output_type": "stream",
     "text": [
      "Train Acc:  39.189189189189186 F1 score on Test Set 0.37960014976\n",
      "[79/100] mean_loss : 0.01\n"
     ]
    },
    {
     "name": "stderr",
     "output_type": "stream",
     "text": [
      "\r",
      " 80%|████████  | 80/100 [1:13:01<18:17, 54.89s/it]"
     ]
    },
    {
     "name": "stdout",
     "output_type": "stream",
     "text": [
      "Train Acc:  40.54054054054054 F1 score on Test Set 0.380736926626\n",
      "[80/100] mean_loss : 0.03\n"
     ]
    },
    {
     "name": "stderr",
     "output_type": "stream",
     "text": [
      "\r",
      " 81%|████████  | 81/100 [1:13:55<17:19, 54.69s/it]"
     ]
    },
    {
     "name": "stdout",
     "output_type": "stream",
     "text": [
      "Train Acc:  39.189189189189186 F1 score on Test Set 0.370263450702\n",
      "[81/100] mean_loss : 0.01\n"
     ]
    },
    {
     "name": "stderr",
     "output_type": "stream",
     "text": [
      "\r",
      " 82%|████████▏ | 82/100 [1:14:49<16:21, 54.52s/it]"
     ]
    },
    {
     "name": "stdout",
     "output_type": "stream",
     "text": [
      "Train Acc:  40.81081081081081 F1 score on Test Set 0.379422742877\n",
      "[82/100] mean_loss : 0.01\n"
     ]
    },
    {
     "name": "stderr",
     "output_type": "stream",
     "text": [
      "\r",
      " 83%|████████▎ | 83/100 [1:15:44<15:28, 54.63s/it]"
     ]
    },
    {
     "name": "stdout",
     "output_type": "stream",
     "text": [
      "Train Acc:  37.027027027027025 F1 score on Test Set 0.360076555201\n",
      "[83/100] mean_loss : 0.03\n"
     ]
    },
    {
     "name": "stderr",
     "output_type": "stream",
     "text": [
      "\r",
      " 84%|████████▍ | 84/100 [1:16:39<14:33, 54.61s/it]"
     ]
    },
    {
     "name": "stdout",
     "output_type": "stream",
     "text": [
      "Train Acc:  36.75675675675676 F1 score on Test Set 0.374485501328\n",
      "[84/100] mean_loss : 0.02\n"
     ]
    },
    {
     "name": "stderr",
     "output_type": "stream",
     "text": [
      "\r",
      " 85%|████████▌ | 85/100 [1:17:33<13:39, 54.65s/it]"
     ]
    },
    {
     "name": "stdout",
     "output_type": "stream",
     "text": [
      "Train Acc:  35.4054054054054 F1 score on Test Set 0.335789217345\n",
      "[85/100] mean_loss : 0.03\n"
     ]
    },
    {
     "name": "stderr",
     "output_type": "stream",
     "text": [
      "\r",
      " 86%|████████▌ | 86/100 [1:18:28<12:43, 54.52s/it]"
     ]
    },
    {
     "name": "stdout",
     "output_type": "stream",
     "text": [
      "Train Acc:  39.729729729729726 F1 score on Test Set 0.377585230037\n",
      "[86/100] mean_loss : 0.01\n"
     ]
    },
    {
     "name": "stderr",
     "output_type": "stream",
     "text": [
      "\r",
      " 87%|████████▋ | 87/100 [1:19:23<11:51, 54.77s/it]"
     ]
    },
    {
     "name": "stdout",
     "output_type": "stream",
     "text": [
      "Train Acc:  35.4054054054054 F1 score on Test Set 0.35725044379\n",
      "[87/100] mean_loss : 0.04\n"
     ]
    },
    {
     "name": "stderr",
     "output_type": "stream",
     "text": [
      "\r",
      " 88%|████████▊ | 88/100 [1:20:19<11:02, 55.19s/it]"
     ]
    },
    {
     "name": "stdout",
     "output_type": "stream",
     "text": [
      "Train Acc:  42.16216216216216 F1 score on Test Set 0.396488906421\n",
      "[88/100] mean_loss : 0.02\n"
     ]
    },
    {
     "name": "stderr",
     "output_type": "stream",
     "text": [
      "\r",
      " 89%|████████▉ | 89/100 [1:21:14<10:07, 55.22s/it]"
     ]
    },
    {
     "name": "stdout",
     "output_type": "stream",
     "text": [
      "Train Acc:  41.08108108108108 F1 score on Test Set 0.379052908864\n",
      "[89/100] mean_loss : 0.01\n"
     ]
    },
    {
     "name": "stderr",
     "output_type": "stream",
     "text": [
      "\r",
      " 90%|█████████ | 90/100 [1:22:10<09:12, 55.24s/it]"
     ]
    },
    {
     "name": "stdout",
     "output_type": "stream",
     "text": [
      "Train Acc:  40.0 F1 score on Test Set 0.372029400567\n",
      "[90/100] mean_loss : 0.01\n"
     ]
    },
    {
     "name": "stderr",
     "output_type": "stream",
     "text": [
      "\r",
      " 91%|█████████ | 91/100 [1:23:07<08:24, 56.01s/it]"
     ]
    },
    {
     "name": "stdout",
     "output_type": "stream",
     "text": [
      "Train Acc:  40.0 F1 score on Test Set 0.374813459661\n",
      "[91/100] mean_loss : 0.03\n"
     ]
    },
    {
     "name": "stderr",
     "output_type": "stream",
     "text": [
      "\r",
      " 92%|█████████▏| 92/100 [1:24:05<07:32, 56.57s/it]"
     ]
    },
    {
     "name": "stdout",
     "output_type": "stream",
     "text": [
      "Train Acc:  38.648648648648646 F1 score on Test Set 0.371408151633\n",
      "[92/100] mean_loss : 0.04\n"
     ]
    },
    {
     "name": "stderr",
     "output_type": "stream",
     "text": [
      "\r",
      " 93%|█████████▎| 93/100 [1:25:03<06:38, 56.95s/it]"
     ]
    },
    {
     "name": "stdout",
     "output_type": "stream",
     "text": [
      "Train Acc:  36.21621621621622 F1 score on Test Set 0.354746295305\n",
      "[93/100] mean_loss : 0.01\n"
     ]
    },
    {
     "name": "stderr",
     "output_type": "stream",
     "text": [
      "\r",
      " 94%|█████████▍| 94/100 [1:26:01<05:43, 57.22s/it]"
     ]
    },
    {
     "name": "stdout",
     "output_type": "stream",
     "text": [
      "Train Acc:  38.37837837837838 F1 score on Test Set 0.355289084951\n",
      "[94/100] mean_loss : 0.01\n"
     ]
    },
    {
     "name": "stderr",
     "output_type": "stream",
     "text": [
      "\r",
      " 95%|█████████▌| 95/100 [1:26:59<04:47, 57.52s/it]"
     ]
    },
    {
     "name": "stdout",
     "output_type": "stream",
     "text": [
      "Train Acc:  38.37837837837838 F1 score on Test Set 0.364835876365\n",
      "[95/100] mean_loss : 0.01\n"
     ]
    },
    {
     "name": "stderr",
     "output_type": "stream",
     "text": [
      "\r",
      " 96%|█████████▌| 96/100 [1:27:57<03:50, 57.59s/it]"
     ]
    },
    {
     "name": "stdout",
     "output_type": "stream",
     "text": [
      "Train Acc:  38.37837837837838 F1 score on Test Set 0.361687970852\n",
      "[96/100] mean_loss : 0.02\n"
     ]
    },
    {
     "name": "stderr",
     "output_type": "stream",
     "text": [
      "\r",
      " 97%|█████████▋| 97/100 [1:28:55<02:53, 57.70s/it]"
     ]
    },
    {
     "name": "stdout",
     "output_type": "stream",
     "text": [
      "Train Acc:  40.81081081081081 F1 score on Test Set 0.381329394028\n",
      "[97/100] mean_loss : 0.05\n"
     ]
    },
    {
     "name": "stderr",
     "output_type": "stream",
     "text": [
      "\r",
      " 98%|█████████▊| 98/100 [1:29:53<01:55, 57.83s/it]"
     ]
    },
    {
     "name": "stdout",
     "output_type": "stream",
     "text": [
      "Train Acc:  39.45945945945946 F1 score on Test Set 0.37404848729\n",
      "[98/100] mean_loss : 0.05\n"
     ]
    },
    {
     "name": "stderr",
     "output_type": "stream",
     "text": [
      "\r",
      " 99%|█████████▉| 99/100 [1:30:51<00:57, 57.88s/it]"
     ]
    },
    {
     "name": "stdout",
     "output_type": "stream",
     "text": [
      "Train Acc:  38.37837837837838 F1 score on Test Set 0.355260178728\n",
      "[99/100] mean_loss : 0.01\n"
     ]
    },
    {
     "name": "stderr",
     "output_type": "stream",
     "text": [
      "\r",
      "100%|██████████| 100/100 [1:31:47<00:00, 57.21s/it]"
     ]
    },
    {
     "name": "stdout",
     "output_type": "stream",
     "text": [
      "Train Acc:  39.729729729729726 F1 score on Test Set 0.36211940099\n"
     ]
    },
    {
     "name": "stderr",
     "output_type": "stream",
     "text": [
      "\n"
     ]
    }
   ],
   "source": [
    "f1s= []\n",
    "accs = []\n",
    "best_model = 0.0\n",
    "for epoch in tqdm(range(EPOCH)):\n",
    "    losses = []\n",
    "    for i,batch in enumerate(getBatch(BATCH_SIZE, train_data)):\n",
    "#         print(batch)\n",
    "        inputs,targets = pad_to_batch(batch)\n",
    "        \n",
    "        model.zero_grad()\n",
    "#         print(inputs.shape)\n",
    "        preds = model(inputs, True)\n",
    "        \n",
    "        loss = loss_function(preds, targets)\n",
    "#         print(loss.data[0])\n",
    "        losses.append(loss.data[0])\n",
    "        loss.backward()\n",
    "        \n",
    "        #for param in model.parameters():\n",
    "        #    param.grad.data.clamp_(-3, 3)\n",
    "        \n",
    "        optimizer.step()\n",
    "        \n",
    "    if epoch%1==0:\n",
    "        print(\"[%d/%d] mean_loss : %0.2f\" %(epoch, EPOCH, np.mean(losses)))\n",
    "        losses = []\n",
    "        accs.append(acc())\n",
    "        f1s.append(f1())\n",
    "        print(\"Train Acc: \",accs[-1],\"F1 score on Test Set\",f1s[-1])\n",
    "        if f1s[-1] > best_model:\n",
    "            best_model = f1s[-1]\n",
    "            saveBestModel(model,\"models/Exp1/CNN_Exp1_f1_\"+str(best_model)+\"_acc_\"+str(acc[-1]))"
   ]
  },
  {
   "cell_type": "code",
   "execution_count": 70,
   "metadata": {},
   "outputs": [
    {
     "data": {
      "image/png": "[encoded data removed]",
      "text/plain": [
       "<Figure size 432x288 with 1 Axes>"
      ]
     },
     "metadata": {},
     "output_type": "display_data"
    }
   ],
   "source": [
    "plt.plot(range(len(f1s)),f1s)\n",
    "plt.title(\"F1 Score over 100 Epochs kernels=[3,5,7]\")\n",
    "plt.xlabel(\"Epochs\")\n",
    "plt.ylabel(\"F1 score\")\n",
    "plt.savefig(\"F1 Score over Epochs.png\")"
   ]
  },
  {
   "cell_type": "code",
   "execution_count": 71,
   "metadata": {},
   "outputs": [
    {
     "data": {
      "image/png": "[encoded data removed]",
      "text/plain": [
       "<Figure size 432x288 with 1 Axes>"
      ]
     },
     "metadata": {},
     "output_type": "display_data"
    }
   ],
   "source": [
    "plt.plot(range(len(accs)),accs)\n",
    "plt.title(\"Trin Acc Score over 100 Epochs kernels=[3,5,7]\")\n",
    "plt.xlabel(\"Epochs\")\n",
    "plt.ylabel(\"Acc score\")\n",
    "plt.savefig(\"Acc Score over Epochs.png\")"
   ]
  },
  {
   "cell_type": "code",
   "execution_count": 85,
   "metadata": {},
   "outputs": [],
   "source": [
    "## Save model\n",
    "def saveBestModel(model,filepath):\n",
    "    torch.save(model,filepath)\n",
    "    # test \n",
    "#     m = torch.load(filepath)"
   ]
  },
  {
   "cell_type": "markdown",
   "metadata": {},
   "source": [
    "## Experiment 2\n",
    "CNN Text Classification at higher kernels\n",
    "11,13,15"
   ]
  },
  {
   "cell_type": "code",
   "execution_count": 80,
   "metadata": {},
   "outputs": [],
   "source": [
    "# class  CNNClassifier_two_layer(nn.Module):\n",
    "    \n",
    "#     def __init__(self, vocab_size, embedding_dim, output_size, kernel_dim=100, kernel_sizes=(2, 3, 4), dropout=0.5):\n",
    "#         super(CNNClassifier,self).__init__()\n",
    "\n",
    "#         self.embedding = nn.Embedding(vocab_size, embedding_dim)\n",
    "#         self.convs = nn.ModuleList([nn.Conv2d(1, kernel_dim, (K, embedding_dim)) for K in kernel_sizes])\n",
    "\n",
    "#         # kernal_size = (K,D) \n",
    "#         self.dropout = nn.Dropout(dropout)\n",
    "#         # FC layer 1: 100 dim\n",
    "#         self.fc = nn.Linear(len(kernel_sizes) * kernel_dim, kernel_dim)\n",
    "#         # extra layer\n",
    "#         self.final_layer = nn.Linear(kernel_dim, output_size)\n",
    "    \n",
    "    \n",
    "#     def init_weights(self, pretrained_word_vectors, is_static=False):\n",
    "#         self.embedding.weight = nn.Parameter(torch.from_numpy(pretrained_word_vectors).float())\n",
    "#         if is_static:\n",
    "#             self.embedding.weight.requires_grad = False\n",
    "\n",
    "\n",
    "#     def forward(self, inputs, is_training=False):\n",
    "#         inputs = self.embedding(inputs).unsqueeze(1) # (B,1,T,D)\n",
    "#         inputs = [F.relu(conv(inputs)).squeeze(3) for conv in self.convs] #[(N,Co,W), ...]*len(Ks)\n",
    "#         inputs = [F.max_pool1d(i, i.size(2)).squeeze(2) for i in inputs] #[(N,Co), ...]*len(Ks)\n",
    "\n",
    "#         concated = torch.cat(inputs, 1)\n",
    "\n",
    "#         if is_training:\n",
    "#             concated = self.dropout(concated) # (N,len(Ks)*Co)\n",
    "#         out = self.fc(concated) \n",
    "#         out2 = self.final_layer(out)\n",
    "#         return F.log_softmax(out2)"
   ]
  },
  {
   "cell_type": "code",
   "execution_count": 81,
   "metadata": {},
   "outputs": [],
   "source": [
    "EPOCH = 100\n",
    "BATCH_SIZE = 2\n",
    "KERNEL_SIZES = [13,15,17]\n",
    "KERNEL_DIM = 100\n",
    "LR = 0.001\n",
    "\n",
    "model = CNNClassifier(len(word2index), 300, len(target2index), KERNEL_DIM, KERNEL_SIZES)\n",
    "model.init_weights(pretrained_vectors) # initialize embedding matrix using pretrained vectors\n",
    "\n",
    "if USE_CUDA:\n",
    "    model = model.cuda()\n",
    "    \n",
    "loss_function = nn.CrossEntropyLoss()\n",
    "optimizer = optim.Adam(model.parameters(), lr=LR)"
   ]
  },
  {
   "cell_type": "code",
   "execution_count": 86,
   "metadata": {},
   "outputs": [
    {
     "name": "stderr",
     "output_type": "stream",
     "text": [
      "\n",
      "  0%|          | 0/100 [00:00<?, ?it/s]\u001b[A\n"
     ]
    },
    {
     "name": "stdout",
     "output_type": "stream",
     "text": [
      "[0/100] mean_loss : 1.71\n"
     ]
    },
    {
     "name": "stderr",
     "output_type": "stream",
     "text": [
      "/opt/conda/envs/pytorch-py35/lib/python3.5/site-packages/sklearn/metrics/classification.py:1135: UndefinedMetricWarning: F-score is ill-defined and being set to 0.0 in labels with no predicted samples.\n",
      "  'precision', 'predicted', average, warn_for)\n",
      "/opt/conda/envs/pytorch-py35/lib/python3.5/site-packages/torch/serialization.py:155: UserWarning: Couldn't retrieve source code for container of type CNNClassifier. It won't be checked for correctness upon loading.\n",
      "  \"type \" + obj.__name__ + \". It won't be checked \"\n",
      "\r",
      "  1%|          | 1/100 [02:25<3:59:24, 145.09s/it]"
     ]
    },
    {
     "name": "stdout",
     "output_type": "stream",
     "text": [
      "Train Acc:  31.351351351351354 F1 score on Test Set 0.212281597097\n",
      "[1/100] mean_loss : 1.54\n"
     ]
    },
    {
     "name": "stderr",
     "output_type": "stream",
     "text": [
      "\r",
      "  2%|▏         | 2/100 [04:49<3:56:45, 144.96s/it]"
     ]
    },
    {
     "name": "stdout",
     "output_type": "stream",
     "text": [
      "Train Acc:  37.567567567567565 F1 score on Test Set 0.307873109093\n",
      "[2/100] mean_loss : 1.34\n"
     ]
    },
    {
     "name": "stderr",
     "output_type": "stream",
     "text": [
      "\r",
      "  3%|▎         | 3/100 [07:14<3:54:01, 144.76s/it]"
     ]
    },
    {
     "name": "stdout",
     "output_type": "stream",
     "text": [
      "Train Acc:  38.91891891891892 F1 score on Test Set 0.241307439569\n",
      "[3/100] mean_loss : 1.12\n"
     ]
    },
    {
     "name": "stderr",
     "output_type": "stream",
     "text": [
      "\r",
      "  4%|▍         | 4/100 [09:38<3:51:21, 144.60s/it]"
     ]
    },
    {
     "name": "stdout",
     "output_type": "stream",
     "text": [
      "Train Acc:  35.4054054054054 F1 score on Test Set 0.287371164145\n",
      "[4/100] mean_loss : 0.92\n"
     ]
    },
    {
     "name": "stderr",
     "output_type": "stream",
     "text": [
      "\r",
      "  5%|▌         | 5/100 [12:02<3:48:38, 144.41s/it]"
     ]
    },
    {
     "name": "stdout",
     "output_type": "stream",
     "text": [
      "Train Acc:  41.08108108108108 F1 score on Test Set 0.357511032618\n",
      "[5/100] mean_loss : 0.72\n"
     ]
    },
    {
     "name": "stderr",
     "output_type": "stream",
     "text": [
      "\r",
      "  6%|▌         | 6/100 [14:26<3:46:16, 144.43s/it]"
     ]
    },
    {
     "name": "stdout",
     "output_type": "stream",
     "text": [
      "Train Acc:  41.62162162162162 F1 score on Test Set 0.348244747359\n",
      "[6/100] mean_loss : 0.59\n"
     ]
    },
    {
     "name": "stderr",
     "output_type": "stream",
     "text": [
      "\r",
      "  7%|▋         | 7/100 [16:52<3:44:23, 144.77s/it]"
     ]
    },
    {
     "name": "stdout",
     "output_type": "stream",
     "text": [
      "Train Acc:  36.75675675675676 F1 score on Test Set 0.348216442085\n",
      "[7/100] mean_loss : 0.55\n"
     ]
    },
    {
     "name": "stderr",
     "output_type": "stream",
     "text": [
      "\r",
      "  8%|▊         | 8/100 [19:17<3:41:58, 144.77s/it]"
     ]
    },
    {
     "name": "stdout",
     "output_type": "stream",
     "text": [
      "Train Acc:  41.891891891891895 F1 score on Test Set 0.361805689427\n",
      "[8/100] mean_loss : 0.50\n"
     ]
    },
    {
     "name": "stderr",
     "output_type": "stream",
     "text": [
      "\r",
      "  9%|▉         | 9/100 [21:42<3:39:49, 144.94s/it]"
     ]
    },
    {
     "name": "stdout",
     "output_type": "stream",
     "text": [
      "Train Acc:  34.32432432432432 F1 score on Test Set 0.328885149603\n",
      "[9/100] mean_loss : 0.41\n"
     ]
    },
    {
     "name": "stderr",
     "output_type": "stream",
     "text": [
      "\r",
      " 10%|█         | 10/100 [24:07<3:37:16, 144.85s/it]"
     ]
    },
    {
     "name": "stdout",
     "output_type": "stream",
     "text": [
      "Train Acc:  38.108108108108105 F1 score on Test Set 0.351990156903\n",
      "[10/100] mean_loss : 0.31\n"
     ]
    },
    {
     "name": "stderr",
     "output_type": "stream",
     "text": [
      "\r",
      " 11%|█         | 11/100 [26:31<3:34:47, 144.80s/it]"
     ]
    },
    {
     "name": "stdout",
     "output_type": "stream",
     "text": [
      "Train Acc:  39.729729729729726 F1 score on Test Set 0.348992565209\n",
      "[11/100] mean_loss : 0.36\n"
     ]
    },
    {
     "name": "stderr",
     "output_type": "stream",
     "text": [
      "\r",
      " 12%|█▏        | 12/100 [28:57<3:32:41, 145.01s/it]"
     ]
    },
    {
     "name": "stdout",
     "output_type": "stream",
     "text": [
      "Train Acc:  42.7027027027027 F1 score on Test Set 0.374132814352\n",
      "[12/100] mean_loss : 0.34\n"
     ]
    },
    {
     "name": "stderr",
     "output_type": "stream",
     "text": [
      "\r",
      " 13%|█▎        | 13/100 [31:22<3:30:15, 145.01s/it]"
     ]
    },
    {
     "name": "stdout",
     "output_type": "stream",
     "text": [
      "Train Acc:  40.27027027027027 F1 score on Test Set 0.364786993392\n",
      "[13/100] mean_loss : 0.27\n"
     ]
    },
    {
     "name": "stderr",
     "output_type": "stream",
     "text": [
      "\r",
      " 14%|█▍        | 14/100 [33:47<3:27:57, 145.09s/it]"
     ]
    },
    {
     "name": "stdout",
     "output_type": "stream",
     "text": [
      "Train Acc:  35.945945945945944 F1 score on Test Set 0.332871424565\n",
      "[14/100] mean_loss : 0.26\n"
     ]
    },
    {
     "name": "stderr",
     "output_type": "stream",
     "text": [
      "\r",
      " 15%|█▌        | 15/100 [36:12<3:25:40, 145.19s/it]"
     ]
    },
    {
     "name": "stdout",
     "output_type": "stream",
     "text": [
      "Train Acc:  39.189189189189186 F1 score on Test Set 0.355334363392\n",
      "[15/100] mean_loss : 0.23\n"
     ]
    },
    {
     "name": "stderr",
     "output_type": "stream",
     "text": [
      "\r",
      " 16%|█▌        | 16/100 [38:37<3:23:04, 145.05s/it]"
     ]
    },
    {
     "name": "stdout",
     "output_type": "stream",
     "text": [
      "Train Acc:  38.648648648648646 F1 score on Test Set 0.347602876196\n",
      "[16/100] mean_loss : 0.22\n"
     ]
    },
    {
     "name": "stderr",
     "output_type": "stream",
     "text": [
      "\r",
      " 17%|█▋        | 17/100 [41:04<3:21:27, 145.63s/it]"
     ]
    },
    {
     "name": "stdout",
     "output_type": "stream",
     "text": [
      "Train Acc:  35.945945945945944 F1 score on Test Set 0.326566090127\n",
      "[17/100] mean_loss : 0.21\n"
     ]
    },
    {
     "name": "stderr",
     "output_type": "stream",
     "text": [
      "\r",
      " 18%|█▊        | 18/100 [43:30<3:19:10, 145.74s/it]"
     ]
    },
    {
     "name": "stdout",
     "output_type": "stream",
     "text": [
      "Train Acc:  44.054054054054056 F1 score on Test Set 0.391258011763\n",
      "[18/100] mean_loss : 0.24\n"
     ]
    },
    {
     "name": "stderr",
     "output_type": "stream",
     "text": [
      "\r",
      " 19%|█▉        | 19/100 [45:55<3:16:35, 145.62s/it]"
     ]
    },
    {
     "name": "stdout",
     "output_type": "stream",
     "text": [
      "Train Acc:  37.567567567567565 F1 score on Test Set 0.361374086553\n",
      "[19/100] mean_loss : 0.30\n"
     ]
    },
    {
     "name": "stderr",
     "output_type": "stream",
     "text": [
      "\r",
      " 20%|██        | 20/100 [48:19<3:13:31, 145.15s/it]"
     ]
    },
    {
     "name": "stdout",
     "output_type": "stream",
     "text": [
      "Train Acc:  37.2972972972973 F1 score on Test Set 0.361048477823\n",
      "[20/100] mean_loss : 0.22\n"
     ]
    },
    {
     "name": "stderr",
     "output_type": "stream",
     "text": [
      "\r",
      " 21%|██        | 21/100 [50:44<3:11:01, 145.08s/it]"
     ]
    },
    {
     "name": "stdout",
     "output_type": "stream",
     "text": [
      "Train Acc:  37.027027027027025 F1 score on Test Set 0.336445274508\n",
      "[21/100] mean_loss : 0.20\n"
     ]
    },
    {
     "name": "stderr",
     "output_type": "stream",
     "text": [
      "\r",
      " 22%|██▏       | 22/100 [53:11<3:09:04, 145.45s/it]"
     ]
    },
    {
     "name": "stdout",
     "output_type": "stream",
     "text": [
      "Train Acc:  38.37837837837838 F1 score on Test Set 0.368718325297\n",
      "[22/100] mean_loss : 0.21\n"
     ]
    },
    {
     "name": "stderr",
     "output_type": "stream",
     "text": [
      "\r",
      " 23%|██▎       | 23/100 [55:36<3:06:43, 145.50s/it]"
     ]
    },
    {
     "name": "stdout",
     "output_type": "stream",
     "text": [
      "Train Acc:  39.189189189189186 F1 score on Test Set 0.359176124966\n",
      "[23/100] mean_loss : 0.18\n"
     ]
    },
    {
     "name": "stderr",
     "output_type": "stream",
     "text": [
      "\r",
      " 24%|██▍       | 24/100 [58:01<3:04:08, 145.38s/it]"
     ]
    },
    {
     "name": "stdout",
     "output_type": "stream",
     "text": [
      "Train Acc:  40.81081081081081 F1 score on Test Set 0.374614666067\n",
      "[24/100] mean_loss : 0.19\n"
     ]
    },
    {
     "name": "stderr",
     "output_type": "stream",
     "text": [
      "\r",
      " 25%|██▌       | 25/100 [1:00:27<3:01:38, 145.31s/it]"
     ]
    },
    {
     "name": "stdout",
     "output_type": "stream",
     "text": [
      "Train Acc:  40.27027027027027 F1 score on Test Set 0.360112057488\n",
      "[25/100] mean_loss : 0.20\n"
     ]
    },
    {
     "name": "stderr",
     "output_type": "stream",
     "text": [
      "\r",
      " 26%|██▌       | 26/100 [1:02:51<2:59:00, 145.14s/it]"
     ]
    },
    {
     "name": "stdout",
     "output_type": "stream",
     "text": [
      "Train Acc:  40.81081081081081 F1 score on Test Set 0.368702374165\n",
      "[26/100] mean_loss : 0.20\n"
     ]
    },
    {
     "name": "stderr",
     "output_type": "stream",
     "text": [
      "\r",
      " 27%|██▋       | 27/100 [1:05:17<2:56:53, 145.40s/it]"
     ]
    },
    {
     "name": "stdout",
     "output_type": "stream",
     "text": [
      "Train Acc:  39.729729729729726 F1 score on Test Set 0.364344971043\n",
      "[27/100] mean_loss : 0.20\n"
     ]
    },
    {
     "name": "stderr",
     "output_type": "stream",
     "text": [
      "\r",
      " 28%|██▊       | 28/100 [1:07:43<2:54:30, 145.42s/it]"
     ]
    },
    {
     "name": "stdout",
     "output_type": "stream",
     "text": [
      "Train Acc:  44.5945945945946 F1 score on Test Set 0.406939002226\n",
      "[28/100] mean_loss : 0.21\n"
     ]
    },
    {
     "name": "stderr",
     "output_type": "stream",
     "text": [
      "\r",
      " 29%|██▉       | 29/100 [1:10:07<2:51:43, 145.12s/it]"
     ]
    },
    {
     "name": "stdout",
     "output_type": "stream",
     "text": [
      "Train Acc:  42.7027027027027 F1 score on Test Set 0.383834437935\n",
      "[29/100] mean_loss : 0.22\n"
     ]
    },
    {
     "name": "stderr",
     "output_type": "stream",
     "text": [
      "\r",
      " 30%|███       | 30/100 [1:12:33<2:49:23, 145.20s/it]"
     ]
    },
    {
     "name": "stdout",
     "output_type": "stream",
     "text": [
      "Train Acc:  38.91891891891892 F1 score on Test Set 0.361628884287\n",
      "[30/100] mean_loss : 0.17\n"
     ]
    },
    {
     "name": "stderr",
     "output_type": "stream",
     "text": [
      "/opt/conda/envs/pytorch-py35/lib/python3.5/site-packages/sklearn/metrics/classification.py:1137: UndefinedMetricWarning: F-score is ill-defined and being set to 0.0 in labels with no true samples.\n",
      "  'recall', 'true', average, warn_for)\n",
      "\r",
      " 31%|███       | 31/100 [1:14:58<2:46:54, 145.14s/it]"
     ]
    },
    {
     "name": "stdout",
     "output_type": "stream",
     "text": [
      "Train Acc:  38.648648648648646 F1 score on Test Set 0.362969681169\n",
      "[31/100] mean_loss : 0.17\n"
     ]
    },
    {
     "name": "stderr",
     "output_type": "stream",
     "text": [
      "\r",
      " 32%|███▏      | 32/100 [1:17:22<2:44:16, 144.94s/it]"
     ]
    },
    {
     "name": "stdout",
     "output_type": "stream",
     "text": [
      "Train Acc:  39.45945945945946 F1 score on Test Set 0.364660872344\n",
      "[32/100] mean_loss : 0.16\n"
     ]
    },
    {
     "name": "stderr",
     "output_type": "stream",
     "text": [
      "\r",
      " 33%|███▎      | 33/100 [1:19:48<2:42:06, 145.17s/it]"
     ]
    },
    {
     "name": "stdout",
     "output_type": "stream",
     "text": [
      "Train Acc:  39.189189189189186 F1 score on Test Set 0.372318128324\n",
      "[33/100] mean_loss : 0.14\n"
     ]
    },
    {
     "name": "stderr",
     "output_type": "stream",
     "text": [
      "\r",
      " 34%|███▍      | 34/100 [1:22:13<2:39:44, 145.22s/it]"
     ]
    },
    {
     "name": "stdout",
     "output_type": "stream",
     "text": [
      "Train Acc:  40.54054054054054 F1 score on Test Set 0.358736091152\n",
      "[34/100] mean_loss : 0.12\n"
     ]
    },
    {
     "name": "stderr",
     "output_type": "stream",
     "text": [
      "\r",
      " 35%|███▌      | 35/100 [1:24:39<2:37:38, 145.51s/it]"
     ]
    },
    {
     "name": "stdout",
     "output_type": "stream",
     "text": [
      "Train Acc:  37.2972972972973 F1 score on Test Set 0.364004830343\n",
      "[35/100] mean_loss : 0.10\n"
     ]
    },
    {
     "name": "stderr",
     "output_type": "stream",
     "text": [
      "\r",
      " 36%|███▌      | 36/100 [1:27:04<2:34:47, 145.12s/it]"
     ]
    },
    {
     "name": "stdout",
     "output_type": "stream",
     "text": [
      "Train Acc:  38.648648648648646 F1 score on Test Set 0.378324750142\n",
      "[36/100] mean_loss : 0.17\n"
     ]
    },
    {
     "name": "stderr",
     "output_type": "stream",
     "text": [
      "\r",
      " 37%|███▋      | 37/100 [1:29:28<2:32:16, 145.03s/it]"
     ]
    },
    {
     "name": "stdout",
     "output_type": "stream",
     "text": [
      "Train Acc:  40.54054054054054 F1 score on Test Set 0.367061923952\n",
      "[37/100] mean_loss : 0.18\n"
     ]
    },
    {
     "name": "stderr",
     "output_type": "stream",
     "text": [
      "\r",
      " 38%|███▊      | 38/100 [1:31:54<2:29:54, 145.08s/it]"
     ]
    },
    {
     "name": "stdout",
     "output_type": "stream",
     "text": [
      "Train Acc:  38.108108108108105 F1 score on Test Set 0.340721696626\n",
      "[38/100] mean_loss : 0.12\n"
     ]
    },
    {
     "name": "stderr",
     "output_type": "stream",
     "text": [
      "\r",
      " 39%|███▉      | 39/100 [1:34:19<2:27:28, 145.06s/it]"
     ]
    },
    {
     "name": "stdout",
     "output_type": "stream",
     "text": [
      "Train Acc:  36.486486486486484 F1 score on Test Set 0.345588105195\n",
      "[39/100] mean_loss : 0.16\n"
     ]
    },
    {
     "name": "stderr",
     "output_type": "stream",
     "text": [
      "\r",
      " 40%|████      | 40/100 [1:36:43<2:24:58, 144.97s/it]"
     ]
    },
    {
     "name": "stdout",
     "output_type": "stream",
     "text": [
      "Train Acc:  39.729729729729726 F1 score on Test Set 0.362529074529\n",
      "[40/100] mean_loss : 0.14\n"
     ]
    },
    {
     "name": "stderr",
     "output_type": "stream",
     "text": [
      "\r",
      " 41%|████      | 41/100 [1:39:09<2:22:46, 145.19s/it]"
     ]
    },
    {
     "name": "stdout",
     "output_type": "stream",
     "text": [
      "Train Acc:  38.648648648648646 F1 score on Test Set 0.349643081817\n",
      "[41/100] mean_loss : 0.14\n"
     ]
    },
    {
     "name": "stderr",
     "output_type": "stream",
     "text": [
      "\r",
      " 42%|████▏     | 42/100 [1:41:35<2:20:41, 145.54s/it]"
     ]
    },
    {
     "name": "stdout",
     "output_type": "stream",
     "text": [
      "Train Acc:  37.2972972972973 F1 score on Test Set 0.350213627427\n",
      "[42/100] mean_loss : 0.13\n"
     ]
    },
    {
     "name": "stderr",
     "output_type": "stream",
     "text": [
      "\r",
      " 43%|████▎     | 43/100 [1:44:02<2:18:30, 145.79s/it]"
     ]
    },
    {
     "name": "stdout",
     "output_type": "stream",
     "text": [
      "Train Acc:  39.189189189189186 F1 score on Test Set 0.343251752924\n",
      "[43/100] mean_loss : 0.13\n"
     ]
    },
    {
     "name": "stderr",
     "output_type": "stream",
     "text": [
      "\r",
      " 44%|████▍     | 44/100 [1:46:27<2:15:52, 145.57s/it]"
     ]
    },
    {
     "name": "stdout",
     "output_type": "stream",
     "text": [
      "Train Acc:  40.81081081081081 F1 score on Test Set 0.367470470275\n",
      "[44/100] mean_loss : 0.14\n"
     ]
    },
    {
     "name": "stderr",
     "output_type": "stream",
     "text": [
      "\r",
      " 45%|████▌     | 45/100 [1:48:53<2:13:40, 145.83s/it]"
     ]
    },
    {
     "name": "stdout",
     "output_type": "stream",
     "text": [
      "Train Acc:  36.75675675675676 F1 score on Test Set 0.353082869974\n",
      "[45/100] mean_loss : 0.14\n"
     ]
    },
    {
     "name": "stderr",
     "output_type": "stream",
     "text": [
      "\r",
      " 46%|████▌     | 46/100 [1:51:18<2:11:00, 145.56s/it]"
     ]
    },
    {
     "name": "stdout",
     "output_type": "stream",
     "text": [
      "Train Acc:  39.729729729729726 F1 score on Test Set 0.351023944969\n",
      "[46/100] mean_loss : 0.12\n"
     ]
    },
    {
     "name": "stderr",
     "output_type": "stream",
     "text": [
      "\r",
      " 47%|████▋     | 47/100 [1:53:43<2:08:22, 145.32s/it]"
     ]
    },
    {
     "name": "stdout",
     "output_type": "stream",
     "text": [
      "Train Acc:  41.08108108108108 F1 score on Test Set 0.353409463391\n",
      "[47/100] mean_loss : 0.21\n"
     ]
    },
    {
     "name": "stderr",
     "output_type": "stream",
     "text": [
      "\r",
      " 48%|████▊     | 48/100 [1:56:08<2:05:48, 145.16s/it]"
     ]
    },
    {
     "name": "stdout",
     "output_type": "stream",
     "text": [
      "Train Acc:  40.54054054054054 F1 score on Test Set 0.373812614836\n",
      "[48/100] mean_loss : 0.12\n"
     ]
    },
    {
     "name": "stderr",
     "output_type": "stream",
     "text": [
      "\r",
      " 49%|████▉     | 49/100 [1:58:33<2:03:29, 145.28s/it]"
     ]
    },
    {
     "name": "stdout",
     "output_type": "stream",
     "text": [
      "Train Acc:  38.648648648648646 F1 score on Test Set 0.349257990768\n",
      "[49/100] mean_loss : 0.10\n"
     ]
    },
    {
     "name": "stderr",
     "output_type": "stream",
     "text": [
      "\r",
      " 50%|█████     | 50/100 [2:00:59<2:01:15, 145.51s/it]"
     ]
    },
    {
     "name": "stdout",
     "output_type": "stream",
     "text": [
      "Train Acc:  39.189189189189186 F1 score on Test Set 0.373964451807\n",
      "[50/100] mean_loss : 0.10\n"
     ]
    },
    {
     "name": "stderr",
     "output_type": "stream",
     "text": [
      "\r",
      " 51%|█████     | 51/100 [2:03:25<1:58:52, 145.55s/it]"
     ]
    },
    {
     "name": "stdout",
     "output_type": "stream",
     "text": [
      "Train Acc:  39.45945945945946 F1 score on Test Set 0.369722046975\n",
      "[51/100] mean_loss : 0.17\n"
     ]
    },
    {
     "name": "stderr",
     "output_type": "stream",
     "text": [
      "\r",
      " 52%|█████▏    | 52/100 [2:05:50<1:56:17, 145.37s/it]"
     ]
    },
    {
     "name": "stdout",
     "output_type": "stream",
     "text": [
      "Train Acc:  38.91891891891892 F1 score on Test Set 0.357120446234\n",
      "[52/100] mean_loss : 0.10\n"
     ]
    },
    {
     "name": "stderr",
     "output_type": "stream",
     "text": [
      "\r",
      " 53%|█████▎    | 53/100 [2:08:15<1:53:46, 145.25s/it]"
     ]
    },
    {
     "name": "stdout",
     "output_type": "stream",
     "text": [
      "Train Acc:  41.62162162162162 F1 score on Test Set 0.381043975759\n",
      "[53/100] mean_loss : 0.09\n"
     ]
    },
    {
     "name": "stderr",
     "output_type": "stream",
     "text": [
      "\r",
      " 54%|█████▍    | 54/100 [2:10:41<1:51:38, 145.63s/it]"
     ]
    },
    {
     "name": "stdout",
     "output_type": "stream",
     "text": [
      "Train Acc:  42.16216216216216 F1 score on Test Set 0.375827475827\n",
      "[54/100] mean_loss : 0.12\n"
     ]
    },
    {
     "name": "stderr",
     "output_type": "stream",
     "text": [
      "\r",
      " 55%|█████▌    | 55/100 [2:13:07<1:49:18, 145.75s/it]"
     ]
    },
    {
     "name": "stdout",
     "output_type": "stream",
     "text": [
      "Train Acc:  40.27027027027027 F1 score on Test Set 0.372237833966\n",
      "[55/100] mean_loss : 0.15\n"
     ]
    },
    {
     "name": "stderr",
     "output_type": "stream",
     "text": [
      "\r",
      " 56%|█████▌    | 56/100 [2:15:33<1:46:57, 145.84s/it]"
     ]
    },
    {
     "name": "stdout",
     "output_type": "stream",
     "text": [
      "Train Acc:  43.513513513513516 F1 score on Test Set 0.40349429877\n",
      "[56/100] mean_loss : 0.15\n"
     ]
    },
    {
     "name": "stderr",
     "output_type": "stream",
     "text": [
      "\r",
      " 57%|█████▋    | 57/100 [2:17:59<1:44:33, 145.89s/it]"
     ]
    },
    {
     "name": "stdout",
     "output_type": "stream",
     "text": [
      "Train Acc:  37.83783783783784 F1 score on Test Set 0.340617684635\n",
      "[57/100] mean_loss : 0.15\n"
     ]
    },
    {
     "name": "stderr",
     "output_type": "stream",
     "text": [
      "\r",
      " 58%|█████▊    | 58/100 [2:20:25<1:42:08, 145.92s/it]"
     ]
    },
    {
     "name": "stdout",
     "output_type": "stream",
     "text": [
      "Train Acc:  35.4054054054054 F1 score on Test Set 0.35033255582\n",
      "[58/100] mean_loss : 0.09\n"
     ]
    },
    {
     "name": "stderr",
     "output_type": "stream",
     "text": [
      "\r",
      " 59%|█████▉    | 59/100 [2:22:50<1:39:28, 145.56s/it]"
     ]
    },
    {
     "name": "stdout",
     "output_type": "stream",
     "text": [
      "Train Acc:  40.0 F1 score on Test Set 0.36827945636\n",
      "[59/100] mean_loss : 0.15\n"
     ]
    },
    {
     "name": "stderr",
     "output_type": "stream",
     "text": [
      "\r",
      " 60%|██████    | 60/100 [2:25:15<1:36:54, 145.36s/it]"
     ]
    },
    {
     "name": "stdout",
     "output_type": "stream",
     "text": [
      "Train Acc:  42.432432432432435 F1 score on Test Set 0.388152043212\n",
      "[60/100] mean_loss : 0.16\n"
     ]
    },
    {
     "name": "stderr",
     "output_type": "stream",
     "text": [
      "\r",
      " 61%|██████    | 61/100 [2:27:41<1:34:30, 145.39s/it]"
     ]
    },
    {
     "name": "stdout",
     "output_type": "stream",
     "text": [
      "Train Acc:  39.729729729729726 F1 score on Test Set 0.373067771163\n",
      "[61/100] mean_loss : 0.13\n"
     ]
    },
    {
     "name": "stderr",
     "output_type": "stream",
     "text": [
      "\r",
      " 62%|██████▏   | 62/100 [2:30:06<1:32:06, 145.43s/it]"
     ]
    },
    {
     "name": "stdout",
     "output_type": "stream",
     "text": [
      "Train Acc:  38.648648648648646 F1 score on Test Set 0.351191921815\n",
      "[62/100] mean_loss : 0.14\n"
     ]
    },
    {
     "name": "stderr",
     "output_type": "stream",
     "text": [
      "\r",
      " 63%|██████▎   | 63/100 [2:32:30<1:29:29, 145.11s/it]"
     ]
    },
    {
     "name": "stdout",
     "output_type": "stream",
     "text": [
      "Train Acc:  39.189189189189186 F1 score on Test Set 0.359019485631\n",
      "[63/100] mean_loss : 0.09\n"
     ]
    },
    {
     "name": "stderr",
     "output_type": "stream",
     "text": [
      "\r",
      " 64%|██████▍   | 64/100 [2:34:57<1:27:15, 145.42s/it]"
     ]
    },
    {
     "name": "stdout",
     "output_type": "stream",
     "text": [
      "Train Acc:  39.729729729729726 F1 score on Test Set 0.367956300456\n",
      "[64/100] mean_loss : 0.09\n"
     ]
    },
    {
     "name": "stderr",
     "output_type": "stream",
     "text": [
      "\r",
      " 65%|██████▌   | 65/100 [2:37:22<1:24:48, 145.38s/it]"
     ]
    },
    {
     "name": "stdout",
     "output_type": "stream",
     "text": [
      "Train Acc:  39.189189189189186 F1 score on Test Set 0.377720250886\n",
      "[65/100] mean_loss : 0.07\n"
     ]
    },
    {
     "name": "stderr",
     "output_type": "stream",
     "text": [
      "\r",
      " 66%|██████▌   | 66/100 [2:39:47<1:22:20, 145.30s/it]"
     ]
    },
    {
     "name": "stdout",
     "output_type": "stream",
     "text": [
      "Train Acc:  42.16216216216216 F1 score on Test Set 0.368956006383\n",
      "[66/100] mean_loss : 0.12\n"
     ]
    },
    {
     "name": "stderr",
     "output_type": "stream",
     "text": [
      "\r",
      " 67%|██████▋   | 67/100 [2:42:13<1:20:02, 145.54s/it]"
     ]
    },
    {
     "name": "stdout",
     "output_type": "stream",
     "text": [
      "Train Acc:  40.81081081081081 F1 score on Test Set 0.359700752987\n",
      "[67/100] mean_loss : 0.11\n"
     ]
    },
    {
     "name": "stderr",
     "output_type": "stream",
     "text": [
      "\r",
      " 68%|██████▊   | 68/100 [2:44:39<1:17:36, 145.51s/it]"
     ]
    },
    {
     "name": "stdout",
     "output_type": "stream",
     "text": [
      "Train Acc:  35.945945945945944 F1 score on Test Set 0.351282906966\n",
      "[68/100] mean_loss : 0.10\n"
     ]
    },
    {
     "name": "stderr",
     "output_type": "stream",
     "text": [
      "\r",
      " 69%|██████▉   | 69/100 [2:47:04<1:15:07, 145.42s/it]"
     ]
    },
    {
     "name": "stdout",
     "output_type": "stream",
     "text": [
      "Train Acc:  40.27027027027027 F1 score on Test Set 0.375887234567\n",
      "[69/100] mean_loss : 0.13\n"
     ]
    },
    {
     "name": "stderr",
     "output_type": "stream",
     "text": [
      "\r",
      " 70%|███████   | 70/100 [2:49:29<1:12:40, 145.35s/it]"
     ]
    },
    {
     "name": "stdout",
     "output_type": "stream",
     "text": [
      "Train Acc:  41.08108108108108 F1 score on Test Set 0.393827251192\n",
      "[70/100] mean_loss : 0.11\n"
     ]
    },
    {
     "name": "stderr",
     "output_type": "stream",
     "text": [
      "\r",
      " 71%|███████   | 71/100 [2:51:54<1:10:15, 145.37s/it]"
     ]
    },
    {
     "name": "stdout",
     "output_type": "stream",
     "text": [
      "Train Acc:  37.83783783783784 F1 score on Test Set 0.352038045636\n",
      "[71/100] mean_loss : 0.10\n"
     ]
    },
    {
     "name": "stderr",
     "output_type": "stream",
     "text": [
      "\r",
      " 72%|███████▏  | 72/100 [2:54:20<1:07:52, 145.43s/it]"
     ]
    },
    {
     "name": "stdout",
     "output_type": "stream",
     "text": [
      "Train Acc:  41.08108108108108 F1 score on Test Set 0.359126660871\n",
      "[72/100] mean_loss : 0.11\n"
     ]
    },
    {
     "name": "stderr",
     "output_type": "stream",
     "text": [
      "\r",
      " 73%|███████▎  | 73/100 [2:56:46<1:05:34, 145.71s/it]"
     ]
    },
    {
     "name": "stdout",
     "output_type": "stream",
     "text": [
      "Train Acc:  40.0 F1 score on Test Set 0.37796034008\n",
      "[73/100] mean_loss : 0.16\n"
     ]
    },
    {
     "name": "stderr",
     "output_type": "stream",
     "text": [
      "\r",
      " 74%|███████▍  | 74/100 [2:59:13<1:03:14, 145.93s/it]"
     ]
    },
    {
     "name": "stdout",
     "output_type": "stream",
     "text": [
      "Train Acc:  38.108108108108105 F1 score on Test Set 0.357459491338\n",
      "[74/100] mean_loss : 0.11\n"
     ]
    },
    {
     "name": "stderr",
     "output_type": "stream",
     "text": [
      "\r",
      " 75%|███████▌  | 75/100 [3:01:39<1:00:52, 146.12s/it]"
     ]
    },
    {
     "name": "stdout",
     "output_type": "stream",
     "text": [
      "Train Acc:  38.91891891891892 F1 score on Test Set 0.363376003951\n",
      "[75/100] mean_loss : 0.11\n"
     ]
    },
    {
     "name": "stderr",
     "output_type": "stream",
     "text": [
      "\r",
      " 76%|███████▌  | 76/100 [3:04:05<58:23, 145.96s/it]  "
     ]
    },
    {
     "name": "stdout",
     "output_type": "stream",
     "text": [
      "Train Acc:  35.4054054054054 F1 score on Test Set 0.338025943538\n",
      "[76/100] mean_loss : 0.11\n"
     ]
    },
    {
     "name": "stderr",
     "output_type": "stream",
     "text": [
      "\r",
      " 77%|███████▋  | 77/100 [3:06:29<55:44, 145.40s/it]"
     ]
    },
    {
     "name": "stdout",
     "output_type": "stream",
     "text": [
      "Train Acc:  40.54054054054054 F1 score on Test Set 0.364496496163\n",
      "[77/100] mean_loss : 0.09\n"
     ]
    },
    {
     "name": "stderr",
     "output_type": "stream",
     "text": [
      "\r",
      " 78%|███████▊  | 78/100 [3:08:54<53:18, 145.38s/it]"
     ]
    },
    {
     "name": "stdout",
     "output_type": "stream",
     "text": [
      "Train Acc:  37.567567567567565 F1 score on Test Set 0.376716398541\n",
      "[78/100] mean_loss : 0.11\n"
     ]
    },
    {
     "name": "stderr",
     "output_type": "stream",
     "text": [
      "\r",
      " 79%|███████▉  | 79/100 [3:11:20<50:55, 145.49s/it]"
     ]
    },
    {
     "name": "stdout",
     "output_type": "stream",
     "text": [
      "Train Acc:  37.2972972972973 F1 score on Test Set 0.359477878759\n",
      "[79/100] mean_loss : 0.13\n"
     ]
    },
    {
     "name": "stderr",
     "output_type": "stream",
     "text": [
      "\r",
      " 80%|████████  | 80/100 [3:13:46<48:34, 145.72s/it]"
     ]
    },
    {
     "name": "stdout",
     "output_type": "stream",
     "text": [
      "Train Acc:  35.4054054054054 F1 score on Test Set 0.33859403454\n",
      "[80/100] mean_loss : 0.11\n"
     ]
    },
    {
     "name": "stderr",
     "output_type": "stream",
     "text": [
      "\r",
      " 81%|████████  | 81/100 [3:16:12<46:06, 145.60s/it]"
     ]
    },
    {
     "name": "stdout",
     "output_type": "stream",
     "text": [
      "Train Acc:  43.24324324324324 F1 score on Test Set 0.394261371243\n",
      "[81/100] mean_loss : 0.06\n"
     ]
    },
    {
     "name": "stderr",
     "output_type": "stream",
     "text": [
      "\r",
      " 82%|████████▏ | 82/100 [3:18:38<43:42, 145.69s/it]"
     ]
    },
    {
     "name": "stdout",
     "output_type": "stream",
     "text": [
      "Train Acc:  41.62162162162162 F1 score on Test Set 0.376406157484\n",
      "[82/100] mean_loss : 0.11\n"
     ]
    },
    {
     "name": "stderr",
     "output_type": "stream",
     "text": [
      "\r",
      " 83%|████████▎ | 83/100 [3:21:03<41:15, 145.61s/it]"
     ]
    },
    {
     "name": "stdout",
     "output_type": "stream",
     "text": [
      "Train Acc:  39.189189189189186 F1 score on Test Set 0.388237241099\n",
      "[83/100] mean_loss : 0.10\n"
     ]
    },
    {
     "name": "stderr",
     "output_type": "stream",
     "text": [
      "\r",
      " 84%|████████▍ | 84/100 [3:23:29<38:50, 145.63s/it]"
     ]
    },
    {
     "name": "stdout",
     "output_type": "stream",
     "text": [
      "Train Acc:  41.891891891891895 F1 score on Test Set 0.375898012997\n",
      "[84/100] mean_loss : 0.11\n"
     ]
    },
    {
     "name": "stderr",
     "output_type": "stream",
     "text": [
      "\r",
      " 85%|████████▌ | 85/100 [3:25:55<36:25, 145.72s/it]"
     ]
    },
    {
     "name": "stdout",
     "output_type": "stream",
     "text": [
      "Train Acc:  40.81081081081081 F1 score on Test Set 0.385367902118\n",
      "[85/100] mean_loss : 0.13\n"
     ]
    },
    {
     "name": "stderr",
     "output_type": "stream",
     "text": [
      "\r",
      " 86%|████████▌ | 86/100 [3:28:20<33:57, 145.54s/it]"
     ]
    },
    {
     "name": "stdout",
     "output_type": "stream",
     "text": [
      "Train Acc:  36.75675675675676 F1 score on Test Set 0.367111400875\n",
      "[86/100] mean_loss : 0.11\n"
     ]
    },
    {
     "name": "stderr",
     "output_type": "stream",
     "text": [
      "\r",
      " 87%|████████▋ | 87/100 [3:30:45<31:32, 145.56s/it]"
     ]
    },
    {
     "name": "stdout",
     "output_type": "stream",
     "text": [
      "Train Acc:  41.08108108108108 F1 score on Test Set 0.393713530638\n",
      "[87/100] mean_loss : 0.08\n"
     ]
    },
    {
     "name": "stderr",
     "output_type": "stream",
     "text": [
      "\r",
      " 88%|████████▊ | 88/100 [3:33:10<29:05, 145.44s/it]"
     ]
    },
    {
     "name": "stdout",
     "output_type": "stream",
     "text": [
      "Train Acc:  42.16216216216216 F1 score on Test Set 0.380099073616\n",
      "[88/100] mean_loss : 0.12\n"
     ]
    },
    {
     "name": "stderr",
     "output_type": "stream",
     "text": [
      "\r",
      " 89%|████████▉ | 89/100 [3:35:36<26:41, 145.56s/it]"
     ]
    },
    {
     "name": "stdout",
     "output_type": "stream",
     "text": [
      "Train Acc:  38.108108108108105 F1 score on Test Set 0.36550404201\n",
      "[89/100] mean_loss : 0.16\n"
     ]
    },
    {
     "name": "stderr",
     "output_type": "stream",
     "text": [
      "\r",
      " 90%|█████████ | 90/100 [3:38:01<24:14, 145.43s/it]"
     ]
    },
    {
     "name": "stdout",
     "output_type": "stream",
     "text": [
      "Train Acc:  40.27027027027027 F1 score on Test Set 0.377720235498\n",
      "[90/100] mean_loss : 0.09\n"
     ]
    },
    {
     "name": "stderr",
     "output_type": "stream",
     "text": [
      "\r",
      " 91%|█████████ | 91/100 [3:40:27<21:49, 145.47s/it]"
     ]
    },
    {
     "name": "stdout",
     "output_type": "stream",
     "text": [
      "Train Acc:  40.81081081081081 F1 score on Test Set 0.388289531729\n",
      "[91/100] mean_loss : 0.08\n"
     ]
    },
    {
     "name": "stderr",
     "output_type": "stream",
     "text": [
      "\r",
      " 92%|█████████▏| 92/100 [3:42:52<19:23, 145.48s/it]"
     ]
    },
    {
     "name": "stdout",
     "output_type": "stream",
     "text": [
      "Train Acc:  37.2972972972973 F1 score on Test Set 0.358649844128\n",
      "[92/100] mean_loss : 0.09\n"
     ]
    },
    {
     "name": "stderr",
     "output_type": "stream",
     "text": [
      "\r",
      " 93%|█████████▎| 93/100 [3:45:18<16:57, 145.35s/it]"
     ]
    },
    {
     "name": "stdout",
     "output_type": "stream",
     "text": [
      "Train Acc:  38.108108108108105 F1 score on Test Set 0.35231628886\n",
      "[93/100] mean_loss : 0.07\n"
     ]
    },
    {
     "name": "stderr",
     "output_type": "stream",
     "text": [
      "\r",
      " 94%|█████████▍| 94/100 [3:47:43<14:32, 145.48s/it]"
     ]
    },
    {
     "name": "stdout",
     "output_type": "stream",
     "text": [
      "Train Acc:  41.351351351351354 F1 score on Test Set 0.360230761899\n",
      "[94/100] mean_loss : 0.11\n"
     ]
    },
    {
     "name": "stderr",
     "output_type": "stream",
     "text": [
      "\r",
      " 95%|█████████▌| 95/100 [3:50:10<12:08, 145.78s/it]"
     ]
    },
    {
     "name": "stdout",
     "output_type": "stream",
     "text": [
      "Train Acc:  41.351351351351354 F1 score on Test Set 0.363104315117\n",
      "[95/100] mean_loss : 0.08\n"
     ]
    },
    {
     "name": "stderr",
     "output_type": "stream",
     "text": [
      "\r",
      " 96%|█████████▌| 96/100 [3:52:35<09:42, 145.66s/it]"
     ]
    },
    {
     "name": "stdout",
     "output_type": "stream",
     "text": [
      "Train Acc:  38.108108108108105 F1 score on Test Set 0.352443135971\n",
      "[96/100] mean_loss : 0.10\n"
     ]
    },
    {
     "name": "stderr",
     "output_type": "stream",
     "text": [
      "\r",
      " 97%|█████████▋| 97/100 [3:55:01<07:16, 145.61s/it]"
     ]
    },
    {
     "name": "stdout",
     "output_type": "stream",
     "text": [
      "Train Acc:  39.45945945945946 F1 score on Test Set 0.364914664232\n",
      "[97/100] mean_loss : 0.08\n"
     ]
    },
    {
     "name": "stderr",
     "output_type": "stream",
     "text": [
      "\r",
      " 98%|█████████▊| 98/100 [3:57:26<04:50, 145.50s/it]"
     ]
    },
    {
     "name": "stdout",
     "output_type": "stream",
     "text": [
      "Train Acc:  37.027027027027025 F1 score on Test Set 0.360688045365\n",
      "[98/100] mean_loss : 0.16\n"
     ]
    },
    {
     "name": "stderr",
     "output_type": "stream",
     "text": [
      "\r",
      " 99%|█████████▉| 99/100 [3:59:51<02:25, 145.52s/it]"
     ]
    },
    {
     "name": "stdout",
     "output_type": "stream",
     "text": [
      "Train Acc:  38.648648648648646 F1 score on Test Set 0.364912157438\n",
      "[99/100] mean_loss : 0.09\n"
     ]
    },
    {
     "name": "stderr",
     "output_type": "stream",
     "text": [
      "\r",
      "100%|██████████| 100/100 [4:02:18<00:00, 145.88s/it]"
     ]
    },
    {
     "name": "stdout",
     "output_type": "stream",
     "text": [
      "Train Acc:  37.83783783783784 F1 score on Test Set 0.372928215856\n"
     ]
    },
    {
     "name": "stderr",
     "output_type": "stream",
     "text": [
      "\n"
     ]
    }
   ],
   "source": [
    "f1s= []\n",
    "accs = []\n",
    "best_model=0.0\n",
    "for epoch in tqdm(range(EPOCH)):\n",
    "    losses = []\n",
    "    for i,batch in enumerate(getBatch(BATCH_SIZE, train_data)):\n",
    "#         print(batch)\n",
    "        inputs,targets = pad_to_batch(batch)\n",
    "        \n",
    "        model.zero_grad()\n",
    "#         print(inputs.shape)\n",
    "        preds = model(inputs, True)\n",
    "        \n",
    "        loss = loss_function(preds, targets)\n",
    "#         print(loss.data[0])\n",
    "        losses.append(loss.data[0])\n",
    "        loss.backward()\n",
    "        \n",
    "        #for param in model.parameters():\n",
    "        #    param.grad.data.clamp_(-3, 3)\n",
    "        \n",
    "        optimizer.step()\n",
    "        \n",
    "    if epoch%1==0:\n",
    "        print(\"[%d/%d] mean_loss : %0.2f\" %(epoch, EPOCH, np.mean(losses)))\n",
    "        losses = []\n",
    "        accs.append(acc())\n",
    "        f1s.append(f1())\n",
    "        print(\"Train Acc: \",accs[-1],\"F1 score on Test Set\",f1s[-1])\n",
    "        if f1s[-1] > best_model:\n",
    "            best_model = f1s[-1]\n",
    "            saveBestModel(model,\"models/Exp2/CNN_Exp2_f1_\"+str(best_model)+\"_acc_\"+str(accs[-1]))"
   ]
  },
  {
   "cell_type": "code",
   "execution_count": 87,
   "metadata": {},
   "outputs": [
    {
     "data": {
      "image/png": "[encoded data removed]",
      "text/plain": [
       "<Figure size 432x288 with 1 Axes>"
      ]
     },
     "metadata": {},
     "output_type": "display_data"
    }
   ],
   "source": [
    "plt.plot(range(len(f1s)),f1s)\n",
    "plt.title(\"F1 Score over 100 Epochs kernels=[13,15,17]\")\n",
    "plt.xlabel(\"Epochs\")\n",
    "plt.ylabel(\"F1 score\")\n",
    "plt.savefig(\"F1 Score over Epochs.png\")"
   ]
  },
  {
   "cell_type": "code",
   "execution_count": 88,
   "metadata": {},
   "outputs": [
    {
     "data": {
      "image/png": "[encoded data removed]",
      "text/plain": [
       "<Figure size 432x288 with 1 Axes>"
      ]
     },
     "metadata": {},
     "output_type": "display_data"
    }
   ],
   "source": [
    "plt.plot(range(len(accs)),accs)\n",
    "plt.title(\"Trin Acc Score over 100 Epochs kernels=[13,15,17]\")\n",
    "plt.xlabel(\"Epochs\")\n",
    "plt.ylabel(\"Acc score\")\n",
    "plt.savefig(\"Acc Score over Epochs.png\")"
   ]
  },
  {
   "cell_type": "code",
   "execution_count": null,
   "metadata": {},
   "outputs": [],
   "source": [
    "## Experiment 3:\n",
    "Increase Capacity"
   ]
  },
  {
   "cell_type": "code",
   "execution_count": 90,
   "metadata": {},
   "outputs": [],
   "source": [
    "EPOCH = 100\n",
    "BATCH_SIZE = 2\n",
    "KERNEL_SIZES = [5,7,9]\n",
    "KERNEL_DIM = 200\n",
    "LR = 0.001\n",
    "\n",
    "model = CNNClassifier(len(word2index), 300, len(target2index), KERNEL_DIM, KERNEL_SIZES)\n",
    "model.init_weights(pretrained_vectors) # initialize embedding matrix using pretrained vectors\n",
    "\n",
    "if USE_CUDA:\n",
    "    model = model.cuda()\n",
    "    \n",
    "loss_function = nn.CrossEntropyLoss()\n",
    "optimizer = optim.Adam(model.parameters(), lr=LR)"
   ]
  },
  {
   "cell_type": "code",
   "execution_count": null,
   "metadata": {},
   "outputs": [
    {
     "name": "stderr",
     "output_type": "stream",
     "text": [
      "\r",
      "  0%|          | 0/100 [00:00<?, ?it/s]"
     ]
    },
    {
     "name": "stdout",
     "output_type": "stream",
     "text": [
      "[0/100] mean_loss : 4.37\n"
     ]
    },
    {
     "name": "stderr",
     "output_type": "stream",
     "text": [
      "/opt/conda/envs/pytorch-py35/lib/python3.5/site-packages/sklearn/metrics/classification.py:1135: UndefinedMetricWarning: F-score is ill-defined and being set to 0.0 in labels with no predicted samples.\n",
      "  'precision', 'predicted', average, warn_for)\n",
      "/opt/conda/envs/pytorch-py35/lib/python3.5/site-packages/torch/serialization.py:155: UserWarning: Couldn't retrieve source code for container of type CNNClassifier. It won't be checked for correctness upon loading.\n",
      "  \"type \" + obj.__name__ + \". It won't be checked \"\n",
      "\r",
      "  1%|          | 1/100 [02:05<3:26:39, 125.25s/it]"
     ]
    },
    {
     "name": "stdout",
     "output_type": "stream",
     "text": [
      "Train Acc:  26.756756756756754 F1 score on Test Set 0.114177539609\n",
      "[1/100] mean_loss : 2.14\n",
      "Train Acc:  31.08108108108108 F1 score on Test Set 0.212996357162\n"
     ]
    },
    {
     "name": "stderr",
     "output_type": "stream",
     "text": [
      "\r",
      "  2%|▏         | 2/100 [04:13<3:25:50, 126.03s/it]"
     ]
    },
    {
     "name": "stdout",
     "output_type": "stream",
     "text": [
      "[2/100] mean_loss : 1.78\n"
     ]
    },
    {
     "name": "stderr",
     "output_type": "stream",
     "text": [
      "\r",
      "  3%|▎         | 3/100 [06:21<3:24:48, 126.68s/it]"
     ]
    },
    {
     "name": "stdout",
     "output_type": "stream",
     "text": [
      "Train Acc:  41.08108108108108 F1 score on Test Set 0.33332918948\n",
      "[3/100] mean_loss : 1.57\n"
     ]
    },
    {
     "name": "stderr",
     "output_type": "stream",
     "text": [
      "\r",
      "  4%|▍         | 4/100 [08:29<3:23:26, 127.15s/it]"
     ]
    },
    {
     "name": "stdout",
     "output_type": "stream",
     "text": [
      "Train Acc:  40.54054054054054 F1 score on Test Set 0.346127339098\n",
      "[4/100] mean_loss : 1.21\n"
     ]
    },
    {
     "name": "stderr",
     "output_type": "stream",
     "text": [
      "\r",
      "  5%|▌         | 5/100 [10:37<3:21:29, 127.26s/it]"
     ]
    },
    {
     "name": "stdout",
     "output_type": "stream",
     "text": [
      "Train Acc:  42.7027027027027 F1 score on Test Set 0.338437508433\n",
      "[5/100] mean_loss : 0.78\n"
     ]
    },
    {
     "name": "stderr",
     "output_type": "stream",
     "text": [
      "\r",
      "  6%|▌         | 6/100 [12:44<3:19:40, 127.45s/it]"
     ]
    },
    {
     "name": "stdout",
     "output_type": "stream",
     "text": [
      "Train Acc:  40.27027027027027 F1 score on Test Set 0.376716413664\n",
      "[6/100] mean_loss : 0.55\n"
     ]
    },
    {
     "name": "stderr",
     "output_type": "stream",
     "text": [
      "\r",
      "  7%|▋         | 7/100 [14:53<3:17:50, 127.64s/it]"
     ]
    },
    {
     "name": "stdout",
     "output_type": "stream",
     "text": [
      "Train Acc:  43.24324324324324 F1 score on Test Set 0.391582989633\n",
      "[7/100] mean_loss : 0.36\n"
     ]
    },
    {
     "name": "stderr",
     "output_type": "stream",
     "text": [
      "\r",
      "  8%|▊         | 8/100 [17:01<3:16:01, 127.85s/it]"
     ]
    },
    {
     "name": "stdout",
     "output_type": "stream",
     "text": [
      "Train Acc:  42.972972972972975 F1 score on Test Set 0.372343925502\n",
      "[8/100] mean_loss : 0.21\n"
     ]
    },
    {
     "name": "stderr",
     "output_type": "stream",
     "text": [
      "\r",
      "  9%|▉         | 9/100 [19:11<3:14:45, 128.41s/it]"
     ]
    },
    {
     "name": "stdout",
     "output_type": "stream",
     "text": [
      "Train Acc:  42.432432432432435 F1 score on Test Set 0.370053587355\n",
      "[9/100] mean_loss : 0.24\n"
     ]
    },
    {
     "name": "stderr",
     "output_type": "stream",
     "text": [
      "\r",
      " 10%|█         | 10/100 [21:19<3:12:37, 128.42s/it]"
     ]
    },
    {
     "name": "stdout",
     "output_type": "stream",
     "text": [
      "Train Acc:  44.5945945945946 F1 score on Test Set 0.388497694456\n",
      "[10/100] mean_loss : 0.25\n"
     ]
    },
    {
     "name": "stderr",
     "output_type": "stream",
     "text": [
      "\r",
      " 11%|█         | 11/100 [23:28<3:10:56, 128.72s/it]"
     ]
    },
    {
     "name": "stdout",
     "output_type": "stream",
     "text": [
      "Train Acc:  40.27027027027027 F1 score on Test Set 0.362066176391\n",
      "[11/100] mean_loss : 0.24\n"
     ]
    },
    {
     "name": "stderr",
     "output_type": "stream",
     "text": [
      "/opt/conda/envs/pytorch-py35/lib/python3.5/site-packages/sklearn/metrics/classification.py:1137: UndefinedMetricWarning: F-score is ill-defined and being set to 0.0 in labels with no true samples.\n",
      "  'recall', 'true', average, warn_for)\n",
      "\r",
      " 12%|█▏        | 12/100 [25:38<3:09:11, 128.99s/it]"
     ]
    },
    {
     "name": "stdout",
     "output_type": "stream",
     "text": [
      "Train Acc:  39.729729729729726 F1 score on Test Set 0.386141212472\n",
      "[12/100] mean_loss : 0.19\n"
     ]
    },
    {
     "name": "stderr",
     "output_type": "stream",
     "text": [
      "\r",
      " 13%|█▎        | 13/100 [27:48<3:07:18, 129.17s/it]"
     ]
    },
    {
     "name": "stdout",
     "output_type": "stream",
     "text": [
      "Train Acc:  43.24324324324324 F1 score on Test Set 0.393096628656\n",
      "[13/100] mean_loss : 0.12\n"
     ]
    },
    {
     "name": "stderr",
     "output_type": "stream",
     "text": [
      "\r",
      " 14%|█▍        | 14/100 [29:58<3:05:27, 129.40s/it]"
     ]
    },
    {
     "name": "stdout",
     "output_type": "stream",
     "text": [
      "Train Acc:  37.83783783783784 F1 score on Test Set 0.37403141267\n",
      "[14/100] mean_loss : 0.10\n"
     ]
    },
    {
     "name": "stderr",
     "output_type": "stream",
     "text": [
      "\r",
      " 15%|█▌        | 15/100 [32:08<3:03:45, 129.71s/it]"
     ]
    },
    {
     "name": "stdout",
     "output_type": "stream",
     "text": [
      "Train Acc:  39.45945945945946 F1 score on Test Set 0.375717095071\n",
      "[15/100] mean_loss : 0.09\n"
     ]
    },
    {
     "name": "stderr",
     "output_type": "stream",
     "text": [
      "\r",
      " 16%|█▌        | 16/100 [34:18<3:01:37, 129.73s/it]"
     ]
    },
    {
     "name": "stdout",
     "output_type": "stream",
     "text": [
      "Train Acc:  40.81081081081081 F1 score on Test Set 0.386579968224\n",
      "[16/100] mean_loss : 0.12\n"
     ]
    },
    {
     "name": "stderr",
     "output_type": "stream",
     "text": [
      "\r",
      " 17%|█▋        | 17/100 [36:27<2:59:16, 129.60s/it]"
     ]
    },
    {
     "name": "stdout",
     "output_type": "stream",
     "text": [
      "Train Acc:  43.78378378378379 F1 score on Test Set 0.389096400258\n",
      "[17/100] mean_loss : 0.13\n"
     ]
    },
    {
     "name": "stderr",
     "output_type": "stream",
     "text": [
      "\r",
      " 18%|█▊        | 18/100 [38:37<2:57:25, 129.83s/it]"
     ]
    },
    {
     "name": "stdout",
     "output_type": "stream",
     "text": [
      "Train Acc:  37.83783783783784 F1 score on Test Set 0.350279912019\n",
      "[18/100] mean_loss : 0.14\n"
     ]
    },
    {
     "name": "stderr",
     "output_type": "stream",
     "text": [
      "\r",
      " 19%|█▉        | 19/100 [40:47<2:55:18, 129.86s/it]"
     ]
    },
    {
     "name": "stdout",
     "output_type": "stream",
     "text": [
      "Train Acc:  41.351351351351354 F1 score on Test Set 0.397994690173\n",
      "[19/100] mean_loss : 0.12\n"
     ]
    },
    {
     "name": "stderr",
     "output_type": "stream",
     "text": [
      "\r",
      " 20%|██        | 20/100 [42:58<2:53:31, 130.15s/it]"
     ]
    },
    {
     "name": "stdout",
     "output_type": "stream",
     "text": [
      "Train Acc:  40.27027027027027 F1 score on Test Set 0.348016968531\n",
      "[20/100] mean_loss : 0.07\n"
     ]
    },
    {
     "name": "stderr",
     "output_type": "stream",
     "text": [
      "\r",
      " 21%|██        | 21/100 [45:08<2:51:21, 130.15s/it]"
     ]
    },
    {
     "name": "stdout",
     "output_type": "stream",
     "text": [
      "Train Acc:  40.27027027027027 F1 score on Test Set 0.373674515514\n",
      "[21/100] mean_loss : 0.08\n"
     ]
    },
    {
     "name": "stderr",
     "output_type": "stream",
     "text": [
      "\r",
      " 22%|██▏       | 22/100 [47:18<2:48:48, 129.85s/it]"
     ]
    },
    {
     "name": "stdout",
     "output_type": "stream",
     "text": [
      "Train Acc:  39.189189189189186 F1 score on Test Set 0.361587079074\n",
      "[22/100] mean_loss : 0.10\n"
     ]
    },
    {
     "name": "stderr",
     "output_type": "stream",
     "text": [
      "\r",
      " 23%|██▎       | 23/100 [49:26<2:46:15, 129.56s/it]"
     ]
    },
    {
     "name": "stdout",
     "output_type": "stream",
     "text": [
      "Train Acc:  42.972972972972975 F1 score on Test Set 0.384399955211\n",
      "[23/100] mean_loss : 0.10\n"
     ]
    },
    {
     "name": "stderr",
     "output_type": "stream",
     "text": [
      "\r",
      " 24%|██▍       | 24/100 [51:34<2:43:29, 129.07s/it]"
     ]
    },
    {
     "name": "stdout",
     "output_type": "stream",
     "text": [
      "Train Acc:  42.972972972972975 F1 score on Test Set 0.36611363918\n",
      "[24/100] mean_loss : 0.11\n"
     ]
    },
    {
     "name": "stderr",
     "output_type": "stream",
     "text": [
      "\r",
      " 25%|██▌       | 25/100 [53:43<2:41:19, 129.06s/it]"
     ]
    },
    {
     "name": "stdout",
     "output_type": "stream",
     "text": [
      "Train Acc:  38.37837837837838 F1 score on Test Set 0.355382835016\n",
      "[25/100] mean_loss : 0.12\n"
     ]
    },
    {
     "name": "stderr",
     "output_type": "stream",
     "text": [
      "\r",
      " 26%|██▌       | 26/100 [55:52<2:38:53, 128.84s/it]"
     ]
    },
    {
     "name": "stdout",
     "output_type": "stream",
     "text": [
      "Train Acc:  42.16216216216216 F1 score on Test Set 0.385093284867\n",
      "[26/100] mean_loss : 0.06\n"
     ]
    },
    {
     "name": "stderr",
     "output_type": "stream",
     "text": [
      "\r",
      " 27%|██▋       | 27/100 [58:01<2:36:52, 128.94s/it]"
     ]
    },
    {
     "name": "stdout",
     "output_type": "stream",
     "text": [
      "Train Acc:  41.08108108108108 F1 score on Test Set 0.356741237687\n",
      "[27/100] mean_loss : 0.08\n"
     ]
    },
    {
     "name": "stderr",
     "output_type": "stream",
     "text": [
      "\r",
      " 28%|██▊       | 28/100 [1:00:09<2:34:21, 128.64s/it]"
     ]
    },
    {
     "name": "stdout",
     "output_type": "stream",
     "text": [
      "Train Acc:  38.108108108108105 F1 score on Test Set 0.354299874581\n",
      "[28/100] mean_loss : 0.06\n"
     ]
    },
    {
     "name": "stderr",
     "output_type": "stream",
     "text": [
      "\r",
      " 29%|██▉       | 29/100 [1:02:18<2:32:30, 128.88s/it]"
     ]
    },
    {
     "name": "stdout",
     "output_type": "stream",
     "text": [
      "Train Acc:  37.2972972972973 F1 score on Test Set 0.344944628161\n",
      "[29/100] mean_loss : 0.11\n"
     ]
    },
    {
     "name": "stderr",
     "output_type": "stream",
     "text": [
      "\r",
      " 30%|███       | 30/100 [1:04:27<2:30:25, 128.94s/it]"
     ]
    },
    {
     "name": "stdout",
     "output_type": "stream",
     "text": [
      "Train Acc:  40.81081081081081 F1 score on Test Set 0.367750993674\n",
      "[30/100] mean_loss : 0.06\n"
     ]
    },
    {
     "name": "stderr",
     "output_type": "stream",
     "text": [
      "\r",
      " 31%|███       | 31/100 [1:06:37<2:28:31, 129.15s/it]"
     ]
    },
    {
     "name": "stdout",
     "output_type": "stream",
     "text": [
      "Train Acc:  41.891891891891895 F1 score on Test Set 0.379390318414\n",
      "[31/100] mean_loss : 0.06\n"
     ]
    },
    {
     "name": "stderr",
     "output_type": "stream",
     "text": [
      "\r",
      " 32%|███▏      | 32/100 [1:08:48<2:27:00, 129.71s/it]"
     ]
    },
    {
     "name": "stdout",
     "output_type": "stream",
     "text": [
      "Train Acc:  38.108108108108105 F1 score on Test Set 0.369153665809\n"
     ]
    }
   ],
   "source": [
    "f1s= []\n",
    "accs = []\n",
    "best_model=0.0\n",
    "for epoch in tqdm(range(EPOCH)):\n",
    "    losses = []\n",
    "    for i,batch in enumerate(getBatch(BATCH_SIZE, train_data)):\n",
    "#         print(batch)\n",
    "        inputs,targets = pad_to_batch(batch)\n",
    "        \n",
    "        model.zero_grad()\n",
    "#         print(inputs.shape)\n",
    "        preds = model(inputs, True)\n",
    "        \n",
    "        loss = loss_function(preds, targets)\n",
    "#         print(loss.data[0])\n",
    "        losses.append(loss.data[0])\n",
    "        loss.backward()\n",
    "        \n",
    "        #for param in model.parameters():\n",
    "        #    param.grad.data.clamp_(-3, 3)\n",
    "        \n",
    "        optimizer.step()\n",
    "        \n",
    "    if epoch%1==0:\n",
    "        print(\"[%d/%d] mean_loss : %0.2f\" %(epoch, EPOCH, np.mean(losses)))\n",
    "        losses = []\n",
    "        accs.append(acc())\n",
    "        f1s.append(f1())\n",
    "        print(\"Train Acc: \",accs[-1],\"F1 score on Test Set\",f1s[-1])\n",
    "        if f1s[-1] > best_model:\n",
    "            best_model = f1s[-1]\n",
    "            saveBestModel(model,\"models/Exp3/CNN_Exp3_f1_\"+str(best_model)+\"_acc_\"+str(accs[-1]))"
   ]
  },
  {
   "cell_type": "code",
   "execution_count": null,
   "metadata": {},
   "outputs": [],
   "source": [
    "plt.plot(range(len(f1s)),f1s)\n",
    "plt.title(\"F1 Score over 100 Epochs kernels=[5,7,9], Kernel Dim 200\")\n",
    "plt.xlabel(\"Epochs\")\n",
    "plt.ylabel(\"F1 score\")\n",
    "plt.savefig(\"F1 Score over Epochs.png\")"
   ]
  },
  {
   "cell_type": "code",
   "execution_count": null,
   "metadata": {},
   "outputs": [],
   "source": [
    "plt.plot(range(len(accs)),accs)\n",
    "plt.title(\"Trin Acc Score over 100 Epochs kernels=[5,7,9], Kernel Dim 200\")\n",
    "plt.xlabel(\"Epochs\")\n",
    "plt.ylabel(\"Acc score\")\n",
    "plt.savefig(\"Acc Score over Epochs.png\")"
   ]
  }
 ],
 "metadata": {
  "kernelspec": {
   "display_name": "Python 3",
   "language": "python",
   "name": "python3"
  },
  "language_info": {
   "codemirror_mode": {
    "name": "ipython",
    "version": 3
   },
   "file_extension": ".py",
   "mimetype": "text/x-python",
   "name": "python",
   "nbconvert_exporter": "python",
   "pygments_lexer": "ipython3",
   "version": "3.5.2"
  }
 },
 "nbformat": 4,
 "nbformat_minor": 2
}
