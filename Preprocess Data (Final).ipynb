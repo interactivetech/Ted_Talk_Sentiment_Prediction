{
 "cells": [
  {
   "cell_type": "code",
   "execution_count": 1,
   "metadata": {},
   "outputs": [],
   "source": [
    "import pandas as pd\n",
    "import numpy as np\n",
    "import textacy\n",
    "import json\n",
    "from tqdm import tqdm "
   ]
  },
  {
   "cell_type": "code",
   "execution_count": 9,
   "metadata": {},
   "outputs": [],
   "source": [
    "a = pd.read_csv(\"data/transcripts.csv\")"
   ]
  },
  {
   "cell_type": "code",
   "execution_count": 7,
   "metadata": {},
   "outputs": [
    {
     "name": "stderr",
     "output_type": "stream",
     "text": [
      "100%|██████████| 200/200 [03:09<00:00,  1.05it/s]\n"
     ]
    }
   ],
   "source": [
    "corpus=[]\n",
    "docs = a['transcript'].tolist()[:200]\n",
    "for doc in tqdm(docs):\n",
    "    corpus.append(textacy.Doc(content=doc.decode('utf-8'),lang=u'en'))"
   ]
  },
  {
   "cell_type": "markdown",
   "metadata": {},
   "source": [
    "## BOW Matrix extracted from Textacy (Pass to Baseline model)"
   ]
  },
  {
   "cell_type": "code",
   "execution_count": 8,
   "metadata": {},
   "outputs": [
    {
     "data": {
      "text/plain": [
       "<200x6241 sparse matrix of type '<type 'numpy.float64'>'\n",
       "\twith 90633 stored elements in Compressed Sparse Row format>"
      ]
     },
     "execution_count": 8,
     "metadata": {},
     "output_type": "execute_result"
    }
   ],
   "source": [
    "tokenized_docs = (doc.to_terms_list(ngrams=1, named_entities=True, as_strings=True) for doc in corpus)\n",
    "vectorizer = textacy.Vectorizer(apply_idf=True, norm='l2',min_df=3, max_df=0.95)\n",
    "doc_term_matrix = vectorizer.fit_transform(tokenized_docs)\n",
    "doc_term_matrix"
   ]
  },
  {
   "cell_type": "markdown",
   "metadata": {},
   "source": [
    "## Get Labels"
   ]
  },
  {
   "cell_type": "code",
   "execution_count": 2,
   "metadata": {},
   "outputs": [],
   "source": [
    "metadata = pd.read_csv(\"data/ted_main.csv\")"
   ]
  },
  {
   "cell_type": "code",
   "execution_count": 3,
   "metadata": {},
   "outputs": [],
   "source": [
    "arr = json.loads(metadata['ratings'][0].replace(\"'\",'\\\"'))"
   ]
  },
  {
   "cell_type": "code",
   "execution_count": 4,
   "metadata": {},
   "outputs": [],
   "source": [
    "def combine_list_of_dicts(arr):\n",
    "    dict_ratings = {}\n",
    "    for a in arr:\n",
    "        if a[\"id\"] not in dict_ratings:\n",
    "            dict_ratings[a[\"id\"]]=a\n",
    "            \n",
    "    return dict_ratings\n",
    "\n",
    "d = combine_list_of_dicts(arr)"
   ]
  },
  {
   "cell_type": "code",
   "execution_count": 5,
   "metadata": {},
   "outputs": [
    {
     "data": {
      "text/plain": [
       "[(10, {u'count': 24924, u'id': 10, u'name': u'Inspiring'}),\n",
       " (7, {u'count': 19645, u'id': 7, u'name': u'Funny'}),\n",
       " (24, {u'count': 10704, u'id': 24, u'name': u'Persuasive'}),\n",
       " (22, {u'count': 10581, u'id': 22, u'name': u'Fascinating'}),\n",
       " (8, {u'count': 7346, u'id': 8, u'name': u'Informative'}),\n",
       " (9, {u'count': 6073, u'id': 9, u'name': u'Ingenious'}),\n",
       " (1, {u'count': 4573, u'id': 1, u'name': u'Beautiful'}),\n",
       " (23, {u'count': 4439, u'id': 23, u'name': u'Jaw-dropping'}),\n",
       " (3, {u'count': 3253, u'id': 3, u'name': u'Courageous'}),\n",
       " (25, {u'count': 1174, u'id': 25, u'name': u'OK'}),\n",
       " (11, {u'count': 387, u'id': 11, u'name': u'Longwinded'}),\n",
       " (21, {u'count': 300, u'id': 21, u'name': u'Unconvincing'}),\n",
       " (2, {u'count': 242, u'id': 2, u'name': u'Confusing'}),\n",
       " (26, {u'count': 209, u'id': 26, u'name': u'Obnoxious'})]"
      ]
     },
     "execution_count": 5,
     "metadata": {},
     "output_type": "execute_result"
    }
   ],
   "source": [
    "sorted(d.items(), key= lambda x:x[1][\"count\"],reverse=True)"
   ]
  },
  {
   "cell_type": "code",
   "execution_count": null,
   "metadata": {},
   "outputs": [],
   "source": []
  },
  {
   "cell_type": "code",
   "execution_count": 6,
   "metadata": {},
   "outputs": [
    {
     "data": {
      "text/plain": [
       "10"
      ]
     },
     "execution_count": 6,
     "metadata": {},
     "output_type": "execute_result"
    }
   ],
   "source": [
    "def getTEDRating(string):\n",
    "    arr = json.loads(string.replace(\"'\",'\\\"'))\n",
    "    d = combine_list_of_dicts(arr) \n",
    "#     print(d.items())\n",
    "    return sorted(d.items(), key= lambda x:x[1][\"count\"],reverse=True)[0][1]['id']\n",
    "getTEDRating(metadata['ratings'][0])"
   ]
  },
  {
   "cell_type": "code",
   "execution_count": 7,
   "metadata": {},
   "outputs": [],
   "source": [
    "labels = [getTEDRating(x) for x in metadata['ratings'].tolist()[:200]]"
   ]
  },
  {
   "cell_type": "code",
   "execution_count": 12,
   "metadata": {},
   "outputs": [],
   "source": [
    "seriess = {'transcripts': pd.Series(a['transcript'].tolist()[:200]),\n",
    "    'labels': pd.Series(labels)}\n",
    "dataset = pd.DataFrame(seriess)"
   ]
  },
  {
   "cell_type": "code",
   "execution_count": 14,
   "metadata": {},
   "outputs": [],
   "source": [
    "dataset.to_csv(\"data/200-TED-Talks-Ratings dataset\")"
   ]
  },
  {
   "cell_type": "code",
   "execution_count": 17,
   "metadata": {},
   "outputs": [
    {
     "data": {
      "text/plain": [
       "2467"
      ]
     },
     "execution_count": 17,
     "metadata": {},
     "output_type": "execute_result"
    }
   ],
   "source": [
    "len(a['transcript'].tolist())"
   ]
  },
  {
   "cell_type": "code",
   "execution_count": 18,
   "metadata": {},
   "outputs": [
    {
     "data": {
      "text/plain": [
       "2550"
      ]
     },
     "execution_count": 18,
     "metadata": {},
     "output_type": "execute_result"
    }
   ],
   "source": [
    "len(metadata['ratings'].tolist())"
   ]
  },
  {
   "cell_type": "markdown",
   "metadata": {},
   "source": [
    "## Full Extraction of Dataset, save to csv for easy usage"
   ]
  },
  {
   "cell_type": "code",
   "execution_count": 19,
   "metadata": {},
   "outputs": [],
   "source": [
    "labels = [getTEDRating(x) for x in metadata['ratings'].tolist()[:2467]]\n",
    "seriess = {'transcripts': pd.Series(a['transcript'].tolist()[:2467]),\n",
    "    'labels': pd.Series(labels)}\n",
    "dataset = pd.DataFrame(seriess)"
   ]
  },
  {
   "cell_type": "code",
   "execution_count": 21,
   "metadata": {},
   "outputs": [],
   "source": [
    "dataset.to_csv(\"data/TED-Talk-Transcript-Labels-2400.csv\")"
   ]
  }
 ],
 "metadata": {
  "kernelspec": {
   "display_name": "Python 2",
   "language": "python",
   "name": "python2"
  },
  "language_info": {
   "codemirror_mode": {
    "name": "ipython",
    "version": 2
   },
   "file_extension": ".py",
   "mimetype": "text/x-python",
   "name": "python",
   "nbconvert_exporter": "python",
   "pygments_lexer": "ipython2",
   "version": "2.7.10"
  }
 },
 "nbformat": 4,
 "nbformat_minor": 2
}
